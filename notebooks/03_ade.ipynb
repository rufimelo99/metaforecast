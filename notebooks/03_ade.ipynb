{
 "cells": [
  {
   "cell_type": "code",
   "execution_count": 1,
   "id": "117c7462-2f17-4b9f-93ae-d5ef7839b6bb",
   "metadata": {},
   "outputs": [],
   "source": [
    "import warnings\n",
    "\n",
    "warnings.filterwarnings(\"ignore\")"
   ]
  },
  {
   "cell_type": "code",
   "execution_count": null,
   "id": "65b145a0-7260-4fe4-8321-6220574984a0",
   "metadata": {},
   "outputs": [],
   "source": [
    "# !pip install metaforecast"
   ]
  },
  {
   "cell_type": "markdown",
   "id": "9879e5fe-8948-42ce-a21e-b1f86895198a",
   "metadata": {},
   "source": [
    "# Data preparation\n",
    "\n",
    "Loading a dataset and splitting it into training and testing"
   ]
  },
  {
   "cell_type": "code",
   "execution_count": 2,
   "id": "1ee2182c-d0ac-46a0-aa37-3d7f86480622",
   "metadata": {},
   "outputs": [
    {
     "data": {
      "text/html": [
       "<div>\n",
       "<style scoped>\n",
       "    .dataframe tbody tr th:only-of-type {\n",
       "        vertical-align: middle;\n",
       "    }\n",
       "\n",
       "    .dataframe tbody tr th {\n",
       "        vertical-align: top;\n",
       "    }\n",
       "\n",
       "    .dataframe thead th {\n",
       "        text-align: right;\n",
       "    }\n",
       "</style>\n",
       "<table border=\"1\" class=\"dataframe\">\n",
       "  <thead>\n",
       "    <tr style=\"text-align: right;\">\n",
       "      <th></th>\n",
       "      <th>unique_id</th>\n",
       "      <th>ds</th>\n",
       "      <th>y</th>\n",
       "    </tr>\n",
       "  </thead>\n",
       "  <tbody>\n",
       "    <tr>\n",
       "      <th>0</th>\n",
       "      <td>H1</td>\n",
       "      <td>1</td>\n",
       "      <td>605.0</td>\n",
       "    </tr>\n",
       "    <tr>\n",
       "      <th>1</th>\n",
       "      <td>H1</td>\n",
       "      <td>2</td>\n",
       "      <td>586.0</td>\n",
       "    </tr>\n",
       "    <tr>\n",
       "      <th>2</th>\n",
       "      <td>H1</td>\n",
       "      <td>3</td>\n",
       "      <td>586.0</td>\n",
       "    </tr>\n",
       "    <tr>\n",
       "      <th>3</th>\n",
       "      <td>H1</td>\n",
       "      <td>4</td>\n",
       "      <td>559.0</td>\n",
       "    </tr>\n",
       "    <tr>\n",
       "      <th>4</th>\n",
       "      <td>H1</td>\n",
       "      <td>5</td>\n",
       "      <td>511.0</td>\n",
       "    </tr>\n",
       "  </tbody>\n",
       "</table>\n",
       "</div>"
      ],
      "text/plain": [
       "  unique_id  ds      y\n",
       "0        H1   1  605.0\n",
       "1        H1   2  586.0\n",
       "2        H1   3  586.0\n",
       "3        H1   4  559.0\n",
       "4        H1   5  511.0"
      ]
     },
     "execution_count": 2,
     "metadata": {},
     "output_type": "execute_result"
    }
   ],
   "source": [
    "import pandas as pd\n",
    "\n",
    "# loading dataset\n",
    "df = pd.read_parquet('https://datasets-nixtla.s3.amazonaws.com/m4-hourly.parquet')\n",
    "\n",
    "# setting the forecasting horizon and the input size\n",
    "horizon = 12\n",
    "n_lags = 24\n",
    "\n",
    "df.head()"
   ]
  },
  {
   "cell_type": "code",
   "execution_count": 3,
   "id": "bb10ae13-393b-4467-8f8a-02a32e276b8c",
   "metadata": {},
   "outputs": [
    {
     "data": {
      "text/html": [
       "<div>\n",
       "<style scoped>\n",
       "    .dataframe tbody tr th:only-of-type {\n",
       "        vertical-align: middle;\n",
       "    }\n",
       "\n",
       "    .dataframe tbody tr th {\n",
       "        vertical-align: top;\n",
       "    }\n",
       "\n",
       "    .dataframe thead th {\n",
       "        text-align: right;\n",
       "    }\n",
       "</style>\n",
       "<table border=\"1\" class=\"dataframe\">\n",
       "  <thead>\n",
       "    <tr style=\"text-align: right;\">\n",
       "      <th></th>\n",
       "      <th>unique_id</th>\n",
       "      <th>ds</th>\n",
       "      <th>y</th>\n",
       "    </tr>\n",
       "  </thead>\n",
       "  <tbody>\n",
       "    <tr>\n",
       "      <th>368399</th>\n",
       "      <td>H99</td>\n",
       "      <td>732</td>\n",
       "      <td>16400.0</td>\n",
       "    </tr>\n",
       "    <tr>\n",
       "      <th>368400</th>\n",
       "      <td>H99</td>\n",
       "      <td>733</td>\n",
       "      <td>18181.0</td>\n",
       "    </tr>\n",
       "    <tr>\n",
       "      <th>368401</th>\n",
       "      <td>H99</td>\n",
       "      <td>734</td>\n",
       "      <td>19684.0</td>\n",
       "    </tr>\n",
       "    <tr>\n",
       "      <th>368402</th>\n",
       "      <td>H99</td>\n",
       "      <td>735</td>\n",
       "      <td>21290.0</td>\n",
       "    </tr>\n",
       "    <tr>\n",
       "      <th>368403</th>\n",
       "      <td>H99</td>\n",
       "      <td>736</td>\n",
       "      <td>22578.0</td>\n",
       "    </tr>\n",
       "  </tbody>\n",
       "</table>\n",
       "</div>"
      ],
      "text/plain": [
       "       unique_id   ds        y\n",
       "368399       H99  732  16400.0\n",
       "368400       H99  733  18181.0\n",
       "368401       H99  734  19684.0\n",
       "368402       H99  735  21290.0\n",
       "368403       H99  736  22578.0"
      ]
     },
     "execution_count": 3,
     "metadata": {},
     "output_type": "execute_result"
    }
   ],
   "source": [
    "df_by_unq = df.groupby('unique_id')\n",
    "\n",
    "train_l, test_l = [], []\n",
    "for g, df_ in df_by_unq:\n",
    "    df_ = df_.sort_values('ds')\n",
    "\n",
    "    train_df_g = df_.head(-horizon)\n",
    "    test_df_g = df_.tail(horizon)\n",
    "\n",
    "    train_l.append(train_df_g)\n",
    "    test_l.append(test_df_g)\n",
    "\n",
    "train_df = pd.concat(train_l).reset_index(drop=True)\n",
    "test_df = pd.concat(test_l).reset_index(drop=True)\n",
    "\n",
    "train_df.tail()"
   ]
  },
  {
   "cell_type": "code",
   "execution_count": 4,
   "id": "eadec7b7-ea0c-4f12-8ae9-e90ff9734ff3",
   "metadata": {},
   "outputs": [
    {
     "data": {
      "text/html": [
       "<div>\n",
       "<style scoped>\n",
       "    .dataframe tbody tr th:only-of-type {\n",
       "        vertical-align: middle;\n",
       "    }\n",
       "\n",
       "    .dataframe tbody tr th {\n",
       "        vertical-align: top;\n",
       "    }\n",
       "\n",
       "    .dataframe thead th {\n",
       "        text-align: right;\n",
       "    }\n",
       "</style>\n",
       "<table border=\"1\" class=\"dataframe\">\n",
       "  <thead>\n",
       "    <tr style=\"text-align: right;\">\n",
       "      <th></th>\n",
       "      <th>unique_id</th>\n",
       "      <th>ds</th>\n",
       "      <th>y</th>\n",
       "    </tr>\n",
       "  </thead>\n",
       "  <tbody>\n",
       "    <tr>\n",
       "      <th>0</th>\n",
       "      <td>H1</td>\n",
       "      <td>737</td>\n",
       "      <td>696.0</td>\n",
       "    </tr>\n",
       "    <tr>\n",
       "      <th>1</th>\n",
       "      <td>H1</td>\n",
       "      <td>738</td>\n",
       "      <td>761.0</td>\n",
       "    </tr>\n",
       "    <tr>\n",
       "      <th>2</th>\n",
       "      <td>H1</td>\n",
       "      <td>739</td>\n",
       "      <td>812.0</td>\n",
       "    </tr>\n",
       "    <tr>\n",
       "      <th>3</th>\n",
       "      <td>H1</td>\n",
       "      <td>740</td>\n",
       "      <td>836.0</td>\n",
       "    </tr>\n",
       "    <tr>\n",
       "      <th>4</th>\n",
       "      <td>H1</td>\n",
       "      <td>741</td>\n",
       "      <td>838.0</td>\n",
       "    </tr>\n",
       "  </tbody>\n",
       "</table>\n",
       "</div>"
      ],
      "text/plain": [
       "  unique_id   ds      y\n",
       "0        H1  737  696.0\n",
       "1        H1  738  761.0\n",
       "2        H1  739  812.0\n",
       "3        H1  740  836.0\n",
       "4        H1  741  838.0"
      ]
     },
     "execution_count": 4,
     "metadata": {},
     "output_type": "execute_result"
    }
   ],
   "source": [
    "test_df.head()"
   ]
  },
  {
   "cell_type": "markdown",
   "id": "4a1054d0-b628-4a1a-88e3-7a7b6606f7c5",
   "metadata": {},
   "source": [
    "# Model setup\n",
    "\n",
    "\n",
    "focus on neuralforecast"
   ]
  },
  {
   "cell_type": "code",
   "execution_count": 5,
   "id": "83d67275-de84-4d20-b669-f18a910bc6ed",
   "metadata": {},
   "outputs": [
    {
     "name": "stderr",
     "output_type": "stream",
     "text": [
      "Seed set to 1\n",
      "Seed set to 1\n",
      "Seed set to 1\n",
      "Seed set to 1\n"
     ]
    }
   ],
   "source": [
    "from neuralforecast import NeuralForecast\n",
    "from neuralforecast.models import (NHITS,\n",
    "                                   LSTM,\n",
    "                                   GRU,\n",
    "                                   NBEATS,\n",
    "                                   MLP,\n",
    "                                   TiDE)\n",
    "\n",
    "CONFIG = {\n",
    "    'input_size': n_lags,\n",
    "    'h': horizon,\n",
    "    'accelerator': 'cpu', 'max_steps':10,\n",
    "}\n",
    "\n",
    "models = [\n",
    "    NBEATS(**CONFIG, stack_types=3*[\"identity\"]),\n",
    "    NHITS(**CONFIG),\n",
    "    MLP( **CONFIG),\n",
    "    MLP(num_layers=3, **CONFIG),\n",
    "    #LSTM(**CONFIG),\n",
    "    #GRU(**CONFIG),\n",
    "    #TiDE( **CONFIG),\n",
    "]\n",
    "\n",
    "\n",
    "nf = NeuralForecast(models=models, freq=24)"
   ]
  },
  {
   "cell_type": "code",
   "execution_count": 6,
   "id": "ff29f2e6-6d5b-429c-841d-3e467b73746d",
   "metadata": {},
   "outputs": [
    {
     "name": "stderr",
     "output_type": "stream",
     "text": [
      "GPU available: False, used: False\n",
      "TPU available: False, using: 0 TPU cores\n",
      "HPU available: False, using: 0 HPUs\n",
      "\n",
      "  | Name         | Type          | Params | Mode \n",
      "-------------------------------------------------------\n",
      "0 | loss         | MAE           | 0      | train\n",
      "1 | padder_train | ConstantPad1d | 0      | train\n",
      "2 | scaler       | TemporalNorm  | 0      | train\n",
      "3 | blocks       | ModuleList    | 2.5 M  | train\n",
      "-------------------------------------------------------\n",
      "2.5 M     Trainable params\n",
      "0         Non-trainable params\n",
      "2.5 M     Total params\n",
      "9.831     Total estimated model params size (MB)\n"
     ]
    },
    {
     "name": "stdout",
     "output_type": "stream",
     "text": [
      "Epoch 0:  77%|███████████████████████████████████████████████████████████████████████▌                     | 10/13 [00:01<00:00,  9.78it/s, v_num=28, train_loss_step=24.50]\n",
      "Validation: |                                                                                                                                         | 0/? [00:00<?, ?it/s]\u001b[A\n",
      "Validation:   0%|                                                                                                                                    | 0/13 [00:00<?, ?it/s]\u001b[A\n",
      "Validation DataLoader 0:   0%|                                                                                                                       | 0/13 [00:00<?, ?it/s]\u001b[A\n",
      "Validation DataLoader 0:   8%|████████▍                                                                                                     | 1/13 [00:00<00:00, 148.77it/s]\u001b[A\n",
      "Validation DataLoader 0:  15%|████████████████▉                                                                                             | 2/13 [00:00<00:00, 107.81it/s]\u001b[A\n",
      "Validation DataLoader 0:  23%|█████████████████████████▍                                                                                    | 3/13 [00:00<00:00, 120.18it/s]\u001b[A\n",
      "Validation DataLoader 0:  31%|█████████████████████████████████▊                                                                            | 4/13 [00:00<00:00, 123.12it/s]\u001b[A\n",
      "Validation DataLoader 0:  38%|██████████████████████████████████████████▎                                                                   | 5/13 [00:00<00:00, 119.23it/s]\u001b[A\n",
      "Validation DataLoader 0:  46%|██████████████████████████████████████████████████▊                                                           | 6/13 [00:00<00:00, 120.14it/s]\u001b[A\n",
      "Validation DataLoader 0:  54%|███████████████████████████████████████████████████████████▏                                                  | 7/13 [00:00<00:00, 119.21it/s]\u001b[A\n",
      "Validation DataLoader 0:  62%|███████████████████████████████████████████████████████████████████▋                                          | 8/13 [00:00<00:00, 122.26it/s]\u001b[A\n",
      "Validation DataLoader 0:  69%|████████████████████████████████████████████████████████████████████████████▏                                 | 9/13 [00:00<00:00, 122.41it/s]\u001b[A\n",
      "Validation DataLoader 0:  77%|███████████████████████████████████████████████████████████████████████████████████▊                         | 10/13 [00:00<00:00, 123.08it/s]\u001b[A\n",
      "Validation DataLoader 0:  85%|████████████████████████████████████████████████████████████████████████████████████████████▏                | 11/13 [00:00<00:00, 123.95it/s]\u001b[A\n",
      "Validation DataLoader 0:  92%|████████████████████████████████████████████████████████████████████████████████████████████████████▌        | 12/13 [00:00<00:00, 123.60it/s]\u001b[A\n",
      "Validation DataLoader 0: 100%|█████████████████████████████████████████████████████████████████████████████████████████████████████████████| 13/13 [00:00<00:00, 124.14it/s]\u001b[A\n",
      "Epoch 0:  77%|█████████████████████████████████████████████████████                | 10/13 [00:01<00:00,  8.65it/s, v_num=28, train_loss_step=24.50, train_loss_epoch=49.60]\u001b[A"
     ]
    },
    {
     "name": "stderr",
     "output_type": "stream",
     "text": [
      "`Trainer.fit` stopped: `max_steps=10` reached.\n"
     ]
    },
    {
     "name": "stdout",
     "output_type": "stream",
     "text": [
      "Epoch 0:  77%|█████████████████████████████████████████████████████                | 10/13 [00:01<00:00,  8.59it/s, v_num=28, train_loss_step=24.50, train_loss_epoch=49.60]"
     ]
    },
    {
     "name": "stderr",
     "output_type": "stream",
     "text": [
      "GPU available: False, used: False\n",
      "TPU available: False, using: 0 TPU cores\n",
      "HPU available: False, using: 0 HPUs\n"
     ]
    },
    {
     "name": "stdout",
     "output_type": "stream",
     "text": [
      "\n",
      "Predicting DataLoader 0: 100%|██████████████████████████████████████████████████████████████████████████████████████████████████████████████| 13/13 [00:08<00:00,  1.50it/s]"
     ]
    },
    {
     "name": "stderr",
     "output_type": "stream",
     "text": [
      "GPU available: False, used: False\n",
      "TPU available: False, using: 0 TPU cores\n",
      "HPU available: False, using: 0 HPUs\n",
      "\n",
      "  | Name         | Type          | Params | Mode \n",
      "-------------------------------------------------------\n",
      "0 | loss         | MAE           | 0      | train\n",
      "1 | padder_train | ConstantPad1d | 0      | train\n",
      "2 | scaler       | TemporalNorm  | 0      | train\n",
      "3 | blocks       | ModuleList    | 2.4 M  | train\n",
      "-------------------------------------------------------\n",
      "2.4 M     Trainable params\n",
      "0         Non-trainable params\n",
      "2.4 M     Total params\n",
      "9.751     Total estimated model params size (MB)\n"
     ]
    },
    {
     "name": "stdout",
     "output_type": "stream",
     "text": [
      "\n",
      "Epoch 0:  77%|███████████████████████████████████████████████████████████████████████▌                     | 10/13 [00:01<00:00,  7.87it/s, v_num=30, train_loss_step=23.40]\n",
      "Validation: |                                                                                                                                         | 0/? [00:00<?, ?it/s]\u001b[A\n",
      "Validation:   0%|                                                                                                                                    | 0/13 [00:00<?, ?it/s]\u001b[A\n",
      "Validation DataLoader 0:   0%|                                                                                                                       | 0/13 [00:00<?, ?it/s]\u001b[A\n",
      "Validation DataLoader 0:   8%|████████▍                                                                                                     | 1/13 [00:00<00:00, 136.57it/s]\u001b[A\n",
      "Validation DataLoader 0:  15%|████████████████▉                                                                                             | 2/13 [00:00<00:00, 117.42it/s]\u001b[A\n",
      "Validation DataLoader 0:  23%|█████████████████████████▍                                                                                    | 3/13 [00:00<00:00, 122.57it/s]\u001b[A\n",
      "Validation DataLoader 0:  31%|█████████████████████████████████▊                                                                            | 4/13 [00:00<00:00, 125.58it/s]\u001b[A\n",
      "Validation DataLoader 0:  38%|██████████████████████████████████████████▎                                                                   | 5/13 [00:00<00:00, 124.99it/s]\u001b[A\n",
      "Validation DataLoader 0:  46%|██████████████████████████████████████████████████▊                                                           | 6/13 [00:00<00:00, 127.14it/s]\u001b[A\n",
      "Validation DataLoader 0:  54%|███████████████████████████████████████████████████████████▏                                                  | 7/13 [00:00<00:00, 126.82it/s]\u001b[A\n",
      "Validation DataLoader 0:  62%|███████████████████████████████████████████████████████████████████▋                                          | 8/13 [00:00<00:00, 128.58it/s]\u001b[A\n",
      "Validation DataLoader 0:  69%|████████████████████████████████████████████████████████████████████████████▏                                 | 9/13 [00:00<00:00, 129.06it/s]\u001b[A\n",
      "Validation DataLoader 0:  77%|███████████████████████████████████████████████████████████████████████████████████▊                         | 10/13 [00:00<00:00, 129.74it/s]\u001b[A\n",
      "Validation DataLoader 0:  85%|████████████████████████████████████████████████████████████████████████████████████████████▏                | 11/13 [00:00<00:00, 129.79it/s]\u001b[A\n",
      "Validation DataLoader 0:  92%|████████████████████████████████████████████████████████████████████████████████████████████████████▌        | 12/13 [00:00<00:00, 130.76it/s]\u001b[A\n",
      "Validation DataLoader 0: 100%|█████████████████████████████████████████████████████████████████████████████████████████████████████████████| 13/13 [00:00<00:00, 131.79it/s]\u001b[A\n",
      "Epoch 0:  77%|█████████████████████████████████████████████████████                | 10/13 [00:01<00:00,  7.18it/s, v_num=30, train_loss_step=23.40, train_loss_epoch=48.70]\u001b[A"
     ]
    },
    {
     "name": "stderr",
     "output_type": "stream",
     "text": [
      "`Trainer.fit` stopped: `max_steps=10` reached.\n"
     ]
    },
    {
     "name": "stdout",
     "output_type": "stream",
     "text": [
      "Epoch 0:  77%|█████████████████████████████████████████████████████                | 10/13 [00:01<00:00,  7.15it/s, v_num=30, train_loss_step=23.40, train_loss_epoch=48.70]"
     ]
    },
    {
     "name": "stderr",
     "output_type": "stream",
     "text": [
      "GPU available: False, used: False\n",
      "TPU available: False, using: 0 TPU cores\n",
      "HPU available: False, using: 0 HPUs\n"
     ]
    },
    {
     "name": "stdout",
     "output_type": "stream",
     "text": [
      "\n",
      "Predicting DataLoader 0: 100%|██████████████████████████████████████████████████████████████████████████████████████████████████████████████| 13/13 [00:09<00:00,  1.35it/s]"
     ]
    },
    {
     "name": "stderr",
     "output_type": "stream",
     "text": [
      "GPU available: False, used: False\n",
      "TPU available: False, using: 0 TPU cores\n",
      "HPU available: False, using: 0 HPUs\n",
      "\n",
      "  | Name         | Type          | Params | Mode \n",
      "-------------------------------------------------------\n",
      "0 | loss         | MAE           | 0      | train\n",
      "1 | padder_train | ConstantPad1d | 0      | train\n",
      "2 | scaler       | TemporalNorm  | 0      | train\n",
      "3 | mlp          | ModuleList    | 1.1 M  | train\n",
      "4 | out          | Linear        | 12.3 K | train\n",
      "-------------------------------------------------------\n",
      "1.1 M     Trainable params\n",
      "0         Non-trainable params\n",
      "1.1 M     Total params\n",
      "4.350     Total estimated model params size (MB)\n"
     ]
    },
    {
     "name": "stdout",
     "output_type": "stream",
     "text": [
      "\n",
      "Epoch 0:  77%|███████████████████████████████████████████████████████████████████████▌                     | 10/13 [00:00<00:00, 20.85it/s, v_num=32, train_loss_step=33.60]\n",
      "Validation: |                                                                                                                                         | 0/? [00:00<?, ?it/s]\u001b[A\n",
      "Validation:   0%|                                                                                                                                    | 0/13 [00:00<?, ?it/s]\u001b[A\n",
      "Validation DataLoader 0:   0%|                                                                                                                       | 0/13 [00:00<?, ?it/s]\u001b[A\n",
      "Validation DataLoader 0:   8%|████████▍                                                                                                     | 1/13 [00:00<00:00, 169.15it/s]\u001b[A\n",
      "Validation DataLoader 0:  15%|████████████████▉                                                                                             | 2/13 [00:00<00:00, 142.07it/s]\u001b[A\n",
      "Validation DataLoader 0:  23%|█████████████████████████▍                                                                                    | 3/13 [00:00<00:00, 151.94it/s]\u001b[A\n",
      "Validation DataLoader 0:  31%|█████████████████████████████████▊                                                                            | 4/13 [00:00<00:00, 156.01it/s]\u001b[A\n",
      "Validation DataLoader 0:  38%|██████████████████████████████████████████▎                                                                   | 5/13 [00:00<00:00, 155.49it/s]\u001b[A\n",
      "Validation DataLoader 0:  46%|██████████████████████████████████████████████████▊                                                           | 6/13 [00:00<00:00, 159.21it/s]\u001b[A\n",
      "Validation DataLoader 0:  54%|███████████████████████████████████████████████████████████▏                                                  | 7/13 [00:00<00:00, 158.96it/s]\u001b[A\n",
      "Validation DataLoader 0:  62%|███████████████████████████████████████████████████████████████████▋                                          | 8/13 [00:00<00:00, 160.07it/s]\u001b[A\n",
      "Validation DataLoader 0:  69%|████████████████████████████████████████████████████████████████████████████▏                                 | 9/13 [00:00<00:00, 162.46it/s]\u001b[A\n",
      "Validation DataLoader 0:  77%|███████████████████████████████████████████████████████████████████████████████████▊                         | 10/13 [00:00<00:00, 162.50it/s]\u001b[A\n",
      "Validation DataLoader 0:  85%|████████████████████████████████████████████████████████████████████████████████████████████▏                | 11/13 [00:00<00:00, 162.80it/s]\u001b[A\n",
      "Validation DataLoader 0:  92%|████████████████████████████████████████████████████████████████████████████████████████████████████▌        | 12/13 [00:00<00:00, 162.24it/s]\u001b[A\n",
      "Validation DataLoader 0: 100%|█████████████████████████████████████████████████████████████████████████████████████████████████████████████| 13/13 [00:00<00:00, 163.30it/s]\u001b[A\n",
      "Epoch 0:  77%|█████████████████████████████████████████████████████                | 10/13 [00:00<00:00, 17.27it/s, v_num=32, train_loss_step=33.60, train_loss_epoch=80.00]\u001b[A"
     ]
    },
    {
     "name": "stderr",
     "output_type": "stream",
     "text": [
      "`Trainer.fit` stopped: `max_steps=10` reached.\n"
     ]
    },
    {
     "name": "stdout",
     "output_type": "stream",
     "text": [
      "Epoch 0:  77%|█████████████████████████████████████████████████████                | 10/13 [00:00<00:00, 17.12it/s, v_num=32, train_loss_step=33.60, train_loss_epoch=80.00]"
     ]
    },
    {
     "name": "stderr",
     "output_type": "stream",
     "text": [
      "GPU available: False, used: False\n",
      "TPU available: False, using: 0 TPU cores\n",
      "HPU available: False, using: 0 HPUs\n"
     ]
    },
    {
     "name": "stdout",
     "output_type": "stream",
     "text": [
      "\n",
      "Predicting DataLoader 0: 100%|██████████████████████████████████████████████████████████████████████████████████████████████████████████████| 13/13 [00:03<00:00,  3.39it/s]"
     ]
    },
    {
     "name": "stderr",
     "output_type": "stream",
     "text": [
      "GPU available: False, used: False\n",
      "TPU available: False, using: 0 TPU cores\n",
      "HPU available: False, using: 0 HPUs\n",
      "\n",
      "  | Name         | Type          | Params | Mode \n",
      "-------------------------------------------------------\n",
      "0 | loss         | MAE           | 0      | train\n",
      "1 | padder_train | ConstantPad1d | 0      | train\n",
      "2 | scaler       | TemporalNorm  | 0      | train\n",
      "3 | mlp          | ModuleList    | 2.1 M  | train\n",
      "4 | out          | Linear        | 12.3 K | train\n",
      "-------------------------------------------------------\n",
      "2.1 M     Trainable params\n",
      "0         Non-trainable params\n",
      "2.1 M     Total params\n",
      "8.548     Total estimated model params size (MB)\n"
     ]
    },
    {
     "name": "stdout",
     "output_type": "stream",
     "text": [
      "\n",
      "Epoch 0:  77%|███████████████████████████████████████████████████████████████████████▌                     | 10/13 [00:01<00:00,  8.25it/s, v_num=34, train_loss_step=33.30]\n",
      "Validation: |                                                                                                                                         | 0/? [00:00<?, ?it/s]\u001b[A\n",
      "Validation:   0%|                                                                                                                                    | 0/13 [00:00<?, ?it/s]\u001b[A\n",
      "Validation DataLoader 0:   0%|                                                                                                                       | 0/13 [00:00<?, ?it/s]\u001b[A\n",
      "Validation DataLoader 0:   8%|████████▍                                                                                                     | 1/13 [00:00<00:00, 159.97it/s]\u001b[A\n",
      "Validation DataLoader 0:  15%|████████████████▉                                                                                             | 2/13 [00:00<00:00, 132.86it/s]\u001b[A\n",
      "Validation DataLoader 0:  23%|█████████████████████████▍                                                                                    | 3/13 [00:00<00:00, 144.71it/s]\u001b[A\n",
      "Validation DataLoader 0:  31%|█████████████████████████████████▊                                                                            | 4/13 [00:00<00:00, 149.72it/s]\u001b[A\n",
      "Validation DataLoader 0:  38%|██████████████████████████████████████████▎                                                                   | 5/13 [00:00<00:00, 154.62it/s]\u001b[A\n",
      "Validation DataLoader 0:  46%|██████████████████████████████████████████████████▊                                                           | 6/13 [00:00<00:00, 157.15it/s]\u001b[A\n",
      "Validation DataLoader 0:  54%|███████████████████████████████████████████████████████████▏                                                  | 7/13 [00:00<00:00, 156.64it/s]\u001b[A\n",
      "Validation DataLoader 0:  62%|███████████████████████████████████████████████████████████████████▋                                          | 8/13 [00:00<00:00, 157.08it/s]\u001b[A\n",
      "Validation DataLoader 0:  69%|████████████████████████████████████████████████████████████████████████████▏                                 | 9/13 [00:00<00:00, 156.77it/s]\u001b[A\n",
      "Validation DataLoader 0:  77%|███████████████████████████████████████████████████████████████████████████████████▊                         | 10/13 [00:00<00:00, 156.87it/s]\u001b[A\n",
      "Validation DataLoader 0:  85%|████████████████████████████████████████████████████████████████████████████████████████████▏                | 11/13 [00:00<00:00, 157.82it/s]\u001b[A\n",
      "Validation DataLoader 0:  92%|████████████████████████████████████████████████████████████████████████████████████████████████████▌        | 12/13 [00:00<00:00, 157.88it/s]\u001b[A\n",
      "Validation DataLoader 0: 100%|█████████████████████████████████████████████████████████████████████████████████████████████████████████████| 13/13 [00:00<00:00, 157.11it/s]\u001b[A\n",
      "Epoch 0:  77%|█████████████████████████████████████████████████████                | 10/13 [00:01<00:00,  7.60it/s, v_num=34, train_loss_step=33.30, train_loss_epoch=81.90]\u001b[A"
     ]
    },
    {
     "name": "stderr",
     "output_type": "stream",
     "text": [
      "`Trainer.fit` stopped: `max_steps=10` reached.\n"
     ]
    },
    {
     "name": "stdout",
     "output_type": "stream",
     "text": [
      "Epoch 0:  77%|█████████████████████████████████████████████████████                | 10/13 [00:01<00:00,  7.57it/s, v_num=34, train_loss_step=33.30, train_loss_epoch=81.90]"
     ]
    },
    {
     "name": "stderr",
     "output_type": "stream",
     "text": [
      "GPU available: False, used: False\n",
      "TPU available: False, using: 0 TPU cores\n",
      "HPU available: False, using: 0 HPUs\n"
     ]
    },
    {
     "name": "stdout",
     "output_type": "stream",
     "text": [
      "\n",
      "Predicting DataLoader 0: 100%|██████████████████████████████████████████████████████████████████████████████████████████████████████████████| 13/13 [00:08<00:00,  1.52it/s]\n"
     ]
    },
    {
     "data": {
      "text/html": [
       "<div>\n",
       "<style scoped>\n",
       "    .dataframe tbody tr th:only-of-type {\n",
       "        vertical-align: middle;\n",
       "    }\n",
       "\n",
       "    .dataframe tbody tr th {\n",
       "        vertical-align: top;\n",
       "    }\n",
       "\n",
       "    .dataframe thead th {\n",
       "        text-align: right;\n",
       "    }\n",
       "</style>\n",
       "<table border=\"1\" class=\"dataframe\">\n",
       "  <thead>\n",
       "    <tr style=\"text-align: right;\">\n",
       "      <th></th>\n",
       "      <th>unique_id</th>\n",
       "      <th>ds</th>\n",
       "      <th>NBEATS</th>\n",
       "      <th>NHITS</th>\n",
       "      <th>MLP</th>\n",
       "      <th>MLP1</th>\n",
       "      <th>y</th>\n",
       "    </tr>\n",
       "  </thead>\n",
       "  <tbody>\n",
       "    <tr>\n",
       "      <th>0</th>\n",
       "      <td>H1</td>\n",
       "      <td>15</td>\n",
       "      <td>491.808289</td>\n",
       "      <td>492.728455</td>\n",
       "      <td>508.756592</td>\n",
       "      <td>557.799622</td>\n",
       "      <td>493.0</td>\n",
       "    </tr>\n",
       "    <tr>\n",
       "      <th>12</th>\n",
       "      <td>H1</td>\n",
       "      <td>16</td>\n",
       "      <td>518.546997</td>\n",
       "      <td>523.763611</td>\n",
       "      <td>543.551514</td>\n",
       "      <td>574.712036</td>\n",
       "      <td>554.0</td>\n",
       "    </tr>\n",
       "    <tr>\n",
       "      <th>24</th>\n",
       "      <td>H1</td>\n",
       "      <td>17</td>\n",
       "      <td>576.509033</td>\n",
       "      <td>576.247559</td>\n",
       "      <td>528.935242</td>\n",
       "      <td>554.555176</td>\n",
       "      <td>610.0</td>\n",
       "    </tr>\n",
       "    <tr>\n",
       "      <th>36</th>\n",
       "      <td>H1</td>\n",
       "      <td>18</td>\n",
       "      <td>628.377075</td>\n",
       "      <td>614.479492</td>\n",
       "      <td>574.343994</td>\n",
       "      <td>554.490234</td>\n",
       "      <td>666.0</td>\n",
       "    </tr>\n",
       "    <tr>\n",
       "      <th>48</th>\n",
       "      <td>H1</td>\n",
       "      <td>19</td>\n",
       "      <td>680.637573</td>\n",
       "      <td>652.831848</td>\n",
       "      <td>608.284790</td>\n",
       "      <td>564.328979</td>\n",
       "      <td>715.0</td>\n",
       "    </tr>\n",
       "  </tbody>\n",
       "</table>\n",
       "</div>"
      ],
      "text/plain": [
       "   unique_id  ds      NBEATS       NHITS         MLP        MLP1      y\n",
       "0         H1  15  491.808289  492.728455  508.756592  557.799622  493.0\n",
       "12        H1  16  518.546997  523.763611  543.551514  574.712036  554.0\n",
       "24        H1  17  576.509033  576.247559  528.935242  554.555176  610.0\n",
       "36        H1  18  628.377075  614.479492  574.343994  554.490234  666.0\n",
       "48        H1  19  680.637573  652.831848  608.284790  564.328979  715.0"
      ]
     },
     "execution_count": 6,
     "metadata": {},
     "output_type": "execute_result"
    }
   ],
   "source": [
    "n_windows = train_df['unique_id'].value_counts().min() - n_lags - 1\n",
    "\n",
    "fcst_cv = nf.cross_validation(df=train_df, n_windows=n_windows, step_size=1)\n",
    "fcst_cv = fcst_cv.reset_index()\n",
    "fcst_cv = fcst_cv.groupby(['unique_id', 'cutoff']).head(1).drop(columns='cutoff')\n",
    "\n",
    "fcst_cv.head()"
   ]
  },
  {
   "cell_type": "markdown",
   "id": "7df4854d-7300-4fa2-b039-70cd676f9fdb",
   "metadata": {},
   "source": [
    "# ensembling\n"
   ]
  },
  {
   "cell_type": "code",
   "execution_count": 7,
   "id": "16e94488-3848-4f86-a5d1-2b33d8dd721a",
   "metadata": {},
   "outputs": [],
   "source": [
    "from metaforecast.ensembles.mlpol import MLpol"
   ]
  },
  {
   "cell_type": "code",
   "execution_count": 10,
   "id": "65de4ee1-d3b8-4672-b9c2-d70d88ba2983",
   "metadata": {},
   "outputs": [],
   "source": [
    "ensemble = MLpol(loss_type='square', gradient=True, trim_ratio=0.8, weight_by_uid=False)"
   ]
  },
  {
   "cell_type": "code",
   "execution_count": 11,
   "id": "f38f6c23-badf-4818-b4b5-33f84d95f330",
   "metadata": {},
   "outputs": [],
   "source": [
    "ensemble.fit(fcst_cv)"
   ]
  },
  {
   "cell_type": "code",
   "execution_count": 12,
   "id": "2e34fdec-fc3d-4ebd-9e2c-df08570ecd8e",
   "metadata": {},
   "outputs": [
    {
     "name": "stderr",
     "output_type": "stream",
     "text": [
      "GPU available: False, used: False\n",
      "TPU available: False, using: 0 TPU cores\n",
      "HPU available: False, using: 0 HPUs\n",
      "\n",
      "  | Name         | Type          | Params | Mode \n",
      "-------------------------------------------------------\n",
      "0 | loss         | MAE           | 0      | train\n",
      "1 | padder_train | ConstantPad1d | 0      | train\n",
      "2 | scaler       | TemporalNorm  | 0      | train\n",
      "3 | blocks       | ModuleList    | 2.5 M  | train\n",
      "-------------------------------------------------------\n",
      "2.5 M     Trainable params\n",
      "0         Non-trainable params\n",
      "2.5 M     Total params\n",
      "9.831     Total estimated model params size (MB)\n"
     ]
    },
    {
     "name": "stdout",
     "output_type": "stream",
     "text": [
      "Epoch 0:  77%|███████████████████████████████████████████████████████████████████████▌                     | 10/13 [00:01<00:00,  6.65it/s, v_num=36, train_loss_step=128.0]\n",
      "Validation: |                                                                                                                                         | 0/? [00:00<?, ?it/s]\u001b[A\n",
      "Validation:   0%|                                                                                                                                    | 0/13 [00:00<?, ?it/s]\u001b[A\n",
      "Validation DataLoader 0:   0%|                                                                                                                       | 0/13 [00:00<?, ?it/s]\u001b[A\n",
      "Validation DataLoader 0:   8%|████████▍                                                                                                     | 1/13 [00:00<00:00, 114.50it/s]\u001b[A\n",
      "Validation DataLoader 0:  15%|█████████████████                                                                                              | 2/13 [00:00<00:00, 14.75it/s]\u001b[A\n",
      "Validation DataLoader 0:  23%|█████████████████████████▌                                                                                     | 3/13 [00:00<00:00, 19.32it/s]\u001b[A\n",
      "Validation DataLoader 0:  31%|██████████████████████████████████▏                                                                            | 4/13 [00:00<00:00, 24.19it/s]\u001b[A\n",
      "Validation DataLoader 0:  38%|██████████████████████████████████████████▋                                                                    | 5/13 [00:00<00:00, 28.92it/s]\u001b[A\n",
      "Validation DataLoader 0:  46%|███████████████████████████████████████████████████▏                                                           | 6/13 [00:00<00:00, 33.20it/s]\u001b[A\n",
      "Validation DataLoader 0:  54%|███████████████████████████████████████████████████████████▊                                                   | 7/13 [00:00<00:00, 37.49it/s]\u001b[A\n",
      "Validation DataLoader 0:  62%|████████████████████████████████████████████████████████████████████▎                                          | 8/13 [00:00<00:00, 38.23it/s]\u001b[A\n",
      "Validation DataLoader 0:  69%|████████████████████████████████████████████████████████████████████████████▊                                  | 9/13 [00:00<00:00, 34.89it/s]\u001b[A\n",
      "Validation DataLoader 0:  77%|████████████████████████████████████████████████████████████████████████████████████▌                         | 10/13 [00:00<00:00, 37.76it/s]\u001b[A\n",
      "Validation DataLoader 0:  85%|█████████████████████████████████████████████████████████████████████████████████████████████                 | 11/13 [00:00<00:00, 40.74it/s]\u001b[A\n",
      "Validation DataLoader 0:  92%|█████████████████████████████████████████████████████████████████████████████████████████████████████▌        | 12/13 [00:00<00:00, 43.47it/s]\u001b[A\n",
      "Validation DataLoader 0: 100%|██████████████████████████████████████████████████████████████████████████████████████████████████████████████| 13/13 [00:00<00:00, 45.75it/s]\u001b[A\n",
      "Epoch 0:  77%|█████████████████████████████████████████████████████                | 10/13 [00:01<00:00,  5.53it/s, v_num=36, train_loss_step=128.0, train_loss_epoch=746.0]\u001b[A"
     ]
    },
    {
     "name": "stderr",
     "output_type": "stream",
     "text": [
      "`Trainer.fit` stopped: `max_steps=10` reached.\n"
     ]
    },
    {
     "name": "stdout",
     "output_type": "stream",
     "text": [
      "Epoch 0:  77%|█████████████████████████████████████████████████████                | 10/13 [00:01<00:00,  5.51it/s, v_num=36, train_loss_step=128.0, train_loss_epoch=746.0]"
     ]
    },
    {
     "name": "stderr",
     "output_type": "stream",
     "text": [
      "GPU available: False, used: False\n",
      "TPU available: False, using: 0 TPU cores\n",
      "HPU available: False, using: 0 HPUs\n",
      "\n",
      "  | Name         | Type          | Params | Mode \n",
      "-------------------------------------------------------\n",
      "0 | loss         | MAE           | 0      | train\n",
      "1 | padder_train | ConstantPad1d | 0      | train\n",
      "2 | scaler       | TemporalNorm  | 0      | train\n",
      "3 | blocks       | ModuleList    | 2.4 M  | train\n",
      "-------------------------------------------------------\n",
      "2.4 M     Trainable params\n",
      "0         Non-trainable params\n",
      "2.4 M     Total params\n",
      "9.751     Total estimated model params size (MB)\n"
     ]
    },
    {
     "name": "stdout",
     "output_type": "stream",
     "text": [
      "\n",
      "Epoch 0:  77%|███████████████████████████████████████████████████████████████████████▌                     | 10/13 [00:01<00:00,  5.43it/s, v_num=37, train_loss_step=187.0]\n",
      "Validation: |                                                                                                                                         | 0/? [00:00<?, ?it/s]\u001b[A\n",
      "Validation:   0%|                                                                                                                                    | 0/13 [00:00<?, ?it/s]\u001b[A\n",
      "Validation DataLoader 0:   0%|                                                                                                                       | 0/13 [00:00<?, ?it/s]\u001b[A\n",
      "Validation DataLoader 0:   8%|████████▍                                                                                                     | 1/13 [00:00<00:00, 104.61it/s]\u001b[A\n",
      "Validation DataLoader 0:  15%|█████████████████                                                                                              | 2/13 [00:00<00:00, 82.34it/s]\u001b[A\n",
      "Validation DataLoader 0:  23%|█████████████████████████▌                                                                                     | 3/13 [00:00<00:00, 92.01it/s]\u001b[A\n",
      "Validation DataLoader 0:  31%|██████████████████████████████████▏                                                                            | 4/13 [00:00<00:00, 83.30it/s]\u001b[A\n",
      "Validation DataLoader 0:  38%|██████████████████████████████████████████▋                                                                    | 5/13 [00:00<00:00, 84.50it/s]\u001b[A\n",
      "Validation DataLoader 0:  46%|███████████████████████████████████████████████████▏                                                           | 6/13 [00:00<00:00, 88.90it/s]\u001b[A\n",
      "Validation DataLoader 0:  54%|███████████████████████████████████████████████████████████▊                                                   | 7/13 [00:00<00:00, 92.28it/s]\u001b[A\n",
      "Validation DataLoader 0:  62%|████████████████████████████████████████████████████████████████████▎                                          | 8/13 [00:00<00:00, 97.18it/s]\u001b[A\n",
      "Validation DataLoader 0:  69%|████████████████████████████████████████████████████████████████████████████▊                                  | 9/13 [00:00<00:00, 96.19it/s]\u001b[A\n",
      "Validation DataLoader 0:  77%|████████████████████████████████████████████████████████████████████████████████████▌                         | 10/13 [00:00<00:00, 98.46it/s]\u001b[A\n",
      "Validation DataLoader 0:  85%|█████████████████████████████████████████████████████████████████████████████████████████████                 | 11/13 [00:00<00:00, 99.75it/s]\u001b[A\n",
      "Validation DataLoader 0:  92%|████████████████████████████████████████████████████████████████████████████████████████████████████▌        | 12/13 [00:00<00:00, 100.38it/s]\u001b[A\n",
      "Validation DataLoader 0: 100%|█████████████████████████████████████████████████████████████████████████████████████████████████████████████| 13/13 [00:00<00:00, 101.24it/s]\u001b[A\n",
      "Epoch 0:  77%|███████████████████████████████████████████████████▌               | 10/13 [00:02<00:00,  4.88it/s, v_num=37, train_loss_step=187.0, train_loss_epoch=1.05e+3]\u001b[A"
     ]
    },
    {
     "name": "stderr",
     "output_type": "stream",
     "text": [
      "`Trainer.fit` stopped: `max_steps=10` reached.\n"
     ]
    },
    {
     "name": "stdout",
     "output_type": "stream",
     "text": [
      "Epoch 0:  77%|███████████████████████████████████████████████████▌               | 10/13 [00:02<00:00,  4.86it/s, v_num=37, train_loss_step=187.0, train_loss_epoch=1.05e+3]\n"
     ]
    },
    {
     "name": "stderr",
     "output_type": "stream",
     "text": [
      "GPU available: False, used: False\n",
      "TPU available: False, using: 0 TPU cores\n",
      "HPU available: False, using: 0 HPUs\n",
      "\n",
      "  | Name         | Type          | Params | Mode \n",
      "-------------------------------------------------------\n",
      "0 | loss         | MAE           | 0      | train\n",
      "1 | padder_train | ConstantPad1d | 0      | train\n",
      "2 | scaler       | TemporalNorm  | 0      | train\n",
      "3 | mlp          | ModuleList    | 1.1 M  | train\n",
      "4 | out          | Linear        | 12.3 K | train\n",
      "-------------------------------------------------------\n",
      "1.1 M     Trainable params\n",
      "0         Non-trainable params\n",
      "1.1 M     Total params\n",
      "4.350     Total estimated model params size (MB)\n"
     ]
    },
    {
     "name": "stdout",
     "output_type": "stream",
     "text": [
      "Epoch 0:  77%|███████████████████████████████████████████████████████████████████████▌                     | 10/13 [00:01<00:00,  7.76it/s, v_num=38, train_loss_step=96.40]\n",
      "Validation: |                                                                                                                                         | 0/? [00:00<?, ?it/s]\u001b[A\n",
      "Validation:   0%|                                                                                                                                    | 0/13 [00:00<?, ?it/s]\u001b[A\n",
      "Validation DataLoader 0:   0%|                                                                                                                       | 0/13 [00:00<?, ?it/s]\u001b[A\n",
      "Validation DataLoader 0:   8%|████████▍                                                                                                     | 1/13 [00:00<00:00, 132.14it/s]\u001b[A\n",
      "Validation DataLoader 0:  15%|█████████████████                                                                                              | 2/13 [00:00<00:00, 37.84it/s]\u001b[A\n",
      "Validation DataLoader 0:  23%|█████████████████████████▌                                                                                     | 3/13 [00:00<00:00, 50.71it/s]\u001b[A\n",
      "Validation DataLoader 0:  31%|██████████████████████████████████▏                                                                            | 4/13 [00:00<00:00, 60.32it/s]\u001b[A\n",
      "Validation DataLoader 0:  38%|██████████████████████████████████████████▋                                                                    | 5/13 [00:00<00:00, 68.42it/s]\u001b[A\n",
      "Validation DataLoader 0:  46%|███████████████████████████████████████████████████▏                                                           | 6/13 [00:00<00:00, 76.01it/s]\u001b[A\n",
      "Validation DataLoader 0:  54%|███████████████████████████████████████████████████████████▊                                                   | 7/13 [00:00<00:00, 78.97it/s]\u001b[A\n",
      "Validation DataLoader 0:  62%|████████████████████████████████████████████████████████████████████▎                                          | 8/13 [00:00<00:00, 84.15it/s]\u001b[A\n",
      "Validation DataLoader 0:  69%|████████████████████████████████████████████████████████████████████████████▊                                  | 9/13 [00:00<00:00, 87.30it/s]\u001b[A\n",
      "Validation DataLoader 0:  77%|████████████████████████████████████████████████████████████████████████████████████▌                         | 10/13 [00:00<00:00, 90.86it/s]\u001b[A\n",
      "Validation DataLoader 0:  85%|█████████████████████████████████████████████████████████████████████████████████████████████                 | 11/13 [00:00<00:00, 93.71it/s]\u001b[A\n",
      "Validation DataLoader 0:  92%|█████████████████████████████████████████████████████████████████████████████████████████████████████▌        | 12/13 [00:00<00:00, 94.26it/s]\u001b[A\n",
      "Validation DataLoader 0: 100%|██████████████████████████████████████████████████████████████████████████████████████████████████████████████| 13/13 [00:00<00:00, 95.69it/s]\u001b[A\n",
      "Epoch 0:  77%|█████████████████████████████████████████████████████                | 10/13 [00:01<00:00,  6.90it/s, v_num=38, train_loss_step=96.40, train_loss_epoch=732.0]\u001b[A"
     ]
    },
    {
     "name": "stderr",
     "output_type": "stream",
     "text": [
      "`Trainer.fit` stopped: `max_steps=10` reached.\n"
     ]
    },
    {
     "name": "stdout",
     "output_type": "stream",
     "text": [
      "Epoch 0:  77%|█████████████████████████████████████████████████████                | 10/13 [00:01<00:00,  6.86it/s, v_num=38, train_loss_step=96.40, train_loss_epoch=732.0]"
     ]
    },
    {
     "name": "stderr",
     "output_type": "stream",
     "text": [
      "GPU available: False, used: False\n",
      "TPU available: False, using: 0 TPU cores\n",
      "HPU available: False, using: 0 HPUs\n",
      "\n",
      "  | Name         | Type          | Params | Mode \n",
      "-------------------------------------------------------\n",
      "0 | loss         | MAE           | 0      | train\n",
      "1 | padder_train | ConstantPad1d | 0      | train\n",
      "2 | scaler       | TemporalNorm  | 0      | train\n",
      "3 | mlp          | ModuleList    | 2.1 M  | train\n",
      "4 | out          | Linear        | 12.3 K | train\n",
      "-------------------------------------------------------\n",
      "2.1 M     Trainable params\n",
      "0         Non-trainable params\n",
      "2.1 M     Total params\n",
      "8.548     Total estimated model params size (MB)\n"
     ]
    },
    {
     "name": "stdout",
     "output_type": "stream",
     "text": [
      "\n",
      "Epoch 0:  77%|███████████████████████████████████████████████████████████████████████▌                     | 10/13 [00:01<00:00,  5.61it/s, v_num=39, train_loss_step=161.0]\n",
      "Validation: |                                                                                                                                         | 0/? [00:00<?, ?it/s]\u001b[A\n",
      "Validation:   0%|                                                                                                                                    | 0/13 [00:00<?, ?it/s]\u001b[A\n",
      "Validation DataLoader 0:   0%|                                                                                                                       | 0/13 [00:00<?, ?it/s]\u001b[A\n",
      "Validation DataLoader 0:   8%|████████▌                                                                                                      | 1/13 [00:00<00:00, 98.30it/s]\u001b[A\n",
      "Validation DataLoader 0:  15%|█████████████████                                                                                              | 2/13 [00:00<00:00, 87.02it/s]\u001b[A\n",
      "Validation DataLoader 0:  23%|█████████████████████████▌                                                                                     | 3/13 [00:00<00:00, 97.86it/s]\u001b[A\n",
      "Validation DataLoader 0:  31%|█████████████████████████████████▊                                                                            | 4/13 [00:00<00:00, 103.55it/s]\u001b[A\n",
      "Validation DataLoader 0:  38%|██████████████████████████████████████████▎                                                                   | 5/13 [00:00<00:00, 100.48it/s]\u001b[A\n",
      "Validation DataLoader 0:  46%|██████████████████████████████████████████████████▊                                                           | 6/13 [00:00<00:00, 102.03it/s]\u001b[A\n",
      "Validation DataLoader 0:  54%|███████████████████████████████████████████████████████████▏                                                  | 7/13 [00:00<00:00, 104.53it/s]\u001b[A\n",
      "Validation DataLoader 0:  62%|███████████████████████████████████████████████████████████████████▋                                          | 8/13 [00:00<00:00, 106.84it/s]\u001b[A\n",
      "Validation DataLoader 0:  69%|████████████████████████████████████████████████████████████████████████████▏                                 | 9/13 [00:00<00:00, 109.21it/s]\u001b[A\n",
      "Validation DataLoader 0:  77%|███████████████████████████████████████████████████████████████████████████████████▊                         | 10/13 [00:00<00:00, 108.96it/s]\u001b[A\n",
      "Validation DataLoader 0:  85%|████████████████████████████████████████████████████████████████████████████████████████████▏                | 11/13 [00:00<00:00, 109.08it/s]\u001b[A\n",
      "Validation DataLoader 0:  92%|████████████████████████████████████████████████████████████████████████████████████████████████████▌        | 12/13 [00:00<00:00, 106.64it/s]\u001b[A\n",
      "Validation DataLoader 0: 100%|█████████████████████████████████████████████████████████████████████████████████████████████████████████████| 13/13 [00:00<00:00, 106.76it/s]\u001b[A\n",
      "Epoch 0:  77%|███████████████████████████████████████████████████▌               | 10/13 [00:01<00:00,  5.01it/s, v_num=39, train_loss_step=161.0, train_loss_epoch=1.57e+3]\u001b[A"
     ]
    },
    {
     "name": "stderr",
     "output_type": "stream",
     "text": [
      "`Trainer.fit` stopped: `max_steps=10` reached.\n"
     ]
    },
    {
     "name": "stdout",
     "output_type": "stream",
     "text": [
      "Epoch 0:  77%|███████████████████████████████████████████████████▌               | 10/13 [00:02<00:00,  4.74it/s, v_num=39, train_loss_step=161.0, train_loss_epoch=1.57e+3]\n"
     ]
    },
    {
     "name": "stderr",
     "output_type": "stream",
     "text": [
      "GPU available: False, used: False\n",
      "TPU available: False, using: 0 TPU cores\n",
      "HPU available: False, using: 0 HPUs\n"
     ]
    },
    {
     "name": "stdout",
     "output_type": "stream",
     "text": [
      "Predicting DataLoader 0: 100%|██████████████████████████████████████████████████████████████████████████████████████████████████████████████| 13/13 [00:00<00:00, 28.75it/s]\n"
     ]
    },
    {
     "name": "stderr",
     "output_type": "stream",
     "text": [
      "GPU available: False, used: False\n",
      "TPU available: False, using: 0 TPU cores\n",
      "HPU available: False, using: 0 HPUs\n"
     ]
    },
    {
     "name": "stdout",
     "output_type": "stream",
     "text": [
      "Predicting DataLoader 0: 100%|██████████████████████████████████████████████████████████████████████████████████████████████████████████████| 13/13 [00:00<00:00, 57.50it/s]\n"
     ]
    },
    {
     "name": "stderr",
     "output_type": "stream",
     "text": [
      "GPU available: False, used: False\n",
      "TPU available: False, using: 0 TPU cores\n",
      "HPU available: False, using: 0 HPUs\n"
     ]
    },
    {
     "name": "stdout",
     "output_type": "stream",
     "text": [
      "Predicting DataLoader 0: 100%|██████████████████████████████████████████████████████████████████████████████████████████████████████████████| 13/13 [00:00<00:00, 96.01it/s]"
     ]
    },
    {
     "name": "stderr",
     "output_type": "stream",
     "text": [
      "GPU available: False, used: False\n",
      "TPU available: False, using: 0 TPU cores\n",
      "HPU available: False, using: 0 HPUs\n"
     ]
    },
    {
     "name": "stdout",
     "output_type": "stream",
     "text": [
      "\n",
      "Predicting DataLoader 0: 100%|██████████████████████████████████████████████████████████████████████████████████████████████████████████████| 13/13 [00:00<00:00, 55.55it/s]\n"
     ]
    }
   ],
   "source": [
    "nf.fit(df=train_df)\n"
   ]
  },
  {
   "cell_type": "code",
   "execution_count": 19,
   "id": "1c1e29c4-5cc6-4699-a860-a549059c0c1d",
   "metadata": {},
   "outputs": [
    {
     "name": "stderr",
     "output_type": "stream",
     "text": [
      "GPU available: False, used: False\n",
      "TPU available: False, using: 0 TPU cores\n",
      "HPU available: False, using: 0 HPUs\n"
     ]
    },
    {
     "name": "stdout",
     "output_type": "stream",
     "text": [
      "Predicting DataLoader 0: 100%|█████████████████████████████████████████████████████████████████████████████████████████████████████████████| 13/13 [00:00<00:00, 100.37it/s]"
     ]
    },
    {
     "name": "stderr",
     "output_type": "stream",
     "text": [
      "GPU available: False, used: False\n",
      "TPU available: False, using: 0 TPU cores\n",
      "HPU available: False, using: 0 HPUs\n"
     ]
    },
    {
     "name": "stdout",
     "output_type": "stream",
     "text": [
      "\n",
      "Predicting DataLoader 0: 100%|█████████████████████████████████████████████████████████████████████████████████████████████████████████████| 13/13 [00:00<00:00, 152.69it/s]\n"
     ]
    },
    {
     "name": "stderr",
     "output_type": "stream",
     "text": [
      "GPU available: False, used: False\n",
      "TPU available: False, using: 0 TPU cores\n",
      "HPU available: False, using: 0 HPUs\n"
     ]
    },
    {
     "name": "stdout",
     "output_type": "stream",
     "text": [
      "Predicting DataLoader 0: 100%|█████████████████████████████████████████████████████████████████████████████████████████████████████████████| 13/13 [00:00<00:00, 200.33it/s]\n"
     ]
    },
    {
     "name": "stderr",
     "output_type": "stream",
     "text": [
      "GPU available: False, used: False\n",
      "TPU available: False, using: 0 TPU cores\n",
      "HPU available: False, using: 0 HPUs\n"
     ]
    },
    {
     "name": "stdout",
     "output_type": "stream",
     "text": [
      "Predicting DataLoader 0: 100%|█████████████████████████████████████████████████████████████████████████████████████████████████████████████| 13/13 [00:00<00:00, 170.76it/s]\n"
     ]
    }
   ],
   "source": [
    "fcst = nf.predict(step_size=1)"
   ]
  },
  {
   "cell_type": "code",
   "execution_count": 21,
   "id": "3587b6ed-d770-4130-bf92-64ea9477bd2d",
   "metadata": {},
   "outputs": [
    {
     "data": {
      "text/html": [
       "<div>\n",
       "<style scoped>\n",
       "    .dataframe tbody tr th:only-of-type {\n",
       "        vertical-align: middle;\n",
       "    }\n",
       "\n",
       "    .dataframe tbody tr th {\n",
       "        vertical-align: top;\n",
       "    }\n",
       "\n",
       "    .dataframe thead th {\n",
       "        text-align: right;\n",
       "    }\n",
       "</style>\n",
       "<table border=\"1\" class=\"dataframe\">\n",
       "  <thead>\n",
       "    <tr style=\"text-align: right;\">\n",
       "      <th></th>\n",
       "      <th>ds</th>\n",
       "      <th>NBEATS</th>\n",
       "      <th>NHITS</th>\n",
       "      <th>MLP</th>\n",
       "      <th>MLP1</th>\n",
       "    </tr>\n",
       "    <tr>\n",
       "      <th>unique_id</th>\n",
       "      <th></th>\n",
       "      <th></th>\n",
       "      <th></th>\n",
       "      <th></th>\n",
       "      <th></th>\n",
       "    </tr>\n",
       "  </thead>\n",
       "  <tbody>\n",
       "    <tr>\n",
       "      <th>H1</th>\n",
       "      <td>760</td>\n",
       "      <td>656.379639</td>\n",
       "      <td>637.912354</td>\n",
       "      <td>803.190735</td>\n",
       "      <td>512.011230</td>\n",
       "    </tr>\n",
       "    <tr>\n",
       "      <th>H1</th>\n",
       "      <td>784</td>\n",
       "      <td>721.976929</td>\n",
       "      <td>653.890076</td>\n",
       "      <td>820.819336</td>\n",
       "      <td>517.277283</td>\n",
       "    </tr>\n",
       "    <tr>\n",
       "      <th>H1</th>\n",
       "      <td>808</td>\n",
       "      <td>729.610474</td>\n",
       "      <td>690.290955</td>\n",
       "      <td>784.360291</td>\n",
       "      <td>546.837646</td>\n",
       "    </tr>\n",
       "    <tr>\n",
       "      <th>H1</th>\n",
       "      <td>832</td>\n",
       "      <td>783.844788</td>\n",
       "      <td>696.610229</td>\n",
       "      <td>946.140686</td>\n",
       "      <td>524.023438</td>\n",
       "    </tr>\n",
       "    <tr>\n",
       "      <th>H1</th>\n",
       "      <td>856</td>\n",
       "      <td>800.086487</td>\n",
       "      <td>686.995361</td>\n",
       "      <td>836.007324</td>\n",
       "      <td>503.833008</td>\n",
       "    </tr>\n",
       "    <tr>\n",
       "      <th>H1</th>\n",
       "      <td>880</td>\n",
       "      <td>781.880310</td>\n",
       "      <td>697.947449</td>\n",
       "      <td>743.068970</td>\n",
       "      <td>518.366272</td>\n",
       "    </tr>\n",
       "    <tr>\n",
       "      <th>H1</th>\n",
       "      <td>904</td>\n",
       "      <td>683.392822</td>\n",
       "      <td>699.303101</td>\n",
       "      <td>711.253967</td>\n",
       "      <td>490.032227</td>\n",
       "    </tr>\n",
       "    <tr>\n",
       "      <th>H1</th>\n",
       "      <td>928</td>\n",
       "      <td>715.381653</td>\n",
       "      <td>674.295349</td>\n",
       "      <td>607.173096</td>\n",
       "      <td>509.725342</td>\n",
       "    </tr>\n",
       "    <tr>\n",
       "      <th>H1</th>\n",
       "      <td>952</td>\n",
       "      <td>688.444824</td>\n",
       "      <td>651.708557</td>\n",
       "      <td>763.695007</td>\n",
       "      <td>517.784790</td>\n",
       "    </tr>\n",
       "    <tr>\n",
       "      <th>H1</th>\n",
       "      <td>976</td>\n",
       "      <td>670.183411</td>\n",
       "      <td>651.479431</td>\n",
       "      <td>789.079224</td>\n",
       "      <td>472.931213</td>\n",
       "    </tr>\n",
       "    <tr>\n",
       "      <th>H1</th>\n",
       "      <td>1000</td>\n",
       "      <td>663.598145</td>\n",
       "      <td>653.447388</td>\n",
       "      <td>642.242493</td>\n",
       "      <td>477.937134</td>\n",
       "    </tr>\n",
       "    <tr>\n",
       "      <th>H1</th>\n",
       "      <td>1024</td>\n",
       "      <td>646.337646</td>\n",
       "      <td>641.641968</td>\n",
       "      <td>549.087830</td>\n",
       "      <td>443.778168</td>\n",
       "    </tr>\n",
       "  </tbody>\n",
       "</table>\n",
       "</div>"
      ],
      "text/plain": [
       "             ds      NBEATS       NHITS         MLP        MLP1\n",
       "unique_id                                                      \n",
       "H1          760  656.379639  637.912354  803.190735  512.011230\n",
       "H1          784  721.976929  653.890076  820.819336  517.277283\n",
       "H1          808  729.610474  690.290955  784.360291  546.837646\n",
       "H1          832  783.844788  696.610229  946.140686  524.023438\n",
       "H1          856  800.086487  686.995361  836.007324  503.833008\n",
       "H1          880  781.880310  697.947449  743.068970  518.366272\n",
       "H1          904  683.392822  699.303101  711.253967  490.032227\n",
       "H1          928  715.381653  674.295349  607.173096  509.725342\n",
       "H1          952  688.444824  651.708557  763.695007  517.784790\n",
       "H1          976  670.183411  651.479431  789.079224  472.931213\n",
       "H1         1000  663.598145  653.447388  642.242493  477.937134\n",
       "H1         1024  646.337646  641.641968  549.087830  443.778168"
      ]
     },
     "execution_count": 21,
     "metadata": {},
     "output_type": "execute_result"
    }
   ],
   "source": [
    "fcst.query('unique_id==\"H1\"')"
   ]
  },
  {
   "cell_type": "code",
   "execution_count": 14,
   "id": "8cc21dda-fca9-408a-a30e-c457acc7d97f",
   "metadata": {},
   "outputs": [
    {
     "data": {
      "text/plain": [
       "0         641.353299\n",
       "1         666.576463\n",
       "2         697.617224\n",
       "3         712.864342\n",
       "4         708.067239\n",
       "            ...     \n",
       "4963    23466.613806\n",
       "4964    22686.546856\n",
       "4965    22534.340592\n",
       "4966    22431.354131\n",
       "4967    22057.653137\n",
       "Name: Mixture, Length: 4968, dtype: float64"
      ]
     },
     "execution_count": 14,
     "metadata": {},
     "output_type": "execute_result"
    }
   ],
   "source": [
    "fcst_ensemble = ensemble.predict(fcst.reset_index())\n",
    "fcst_ensemble"
   ]
  },
  {
   "cell_type": "code",
   "execution_count": 15,
   "id": "9df05330-0df5-4e03-ba04-e8e03c1c2fd3",
   "metadata": {},
   "outputs": [
    {
     "data": {
      "text/html": [
       "<div>\n",
       "<style scoped>\n",
       "    .dataframe tbody tr th:only-of-type {\n",
       "        vertical-align: middle;\n",
       "    }\n",
       "\n",
       "    .dataframe tbody tr th {\n",
       "        vertical-align: top;\n",
       "    }\n",
       "\n",
       "    .dataframe thead th {\n",
       "        text-align: right;\n",
       "    }\n",
       "</style>\n",
       "<table border=\"1\" class=\"dataframe\">\n",
       "  <thead>\n",
       "    <tr style=\"text-align: right;\">\n",
       "      <th></th>\n",
       "      <th>ds</th>\n",
       "      <th>NBEATS</th>\n",
       "      <th>NHITS</th>\n",
       "      <th>MLP</th>\n",
       "      <th>MLP1</th>\n",
       "      <th>Mixture</th>\n",
       "    </tr>\n",
       "    <tr>\n",
       "      <th>unique_id</th>\n",
       "      <th></th>\n",
       "      <th></th>\n",
       "      <th></th>\n",
       "      <th></th>\n",
       "      <th></th>\n",
       "      <th></th>\n",
       "    </tr>\n",
       "  </thead>\n",
       "  <tbody>\n",
       "    <tr>\n",
       "      <th>H1</th>\n",
       "      <td>760</td>\n",
       "      <td>656.379639</td>\n",
       "      <td>637.912354</td>\n",
       "      <td>803.190735</td>\n",
       "      <td>512.011230</td>\n",
       "      <td>641.353299</td>\n",
       "    </tr>\n",
       "    <tr>\n",
       "      <th>H1</th>\n",
       "      <td>784</td>\n",
       "      <td>721.976929</td>\n",
       "      <td>653.890076</td>\n",
       "      <td>820.819336</td>\n",
       "      <td>517.277283</td>\n",
       "      <td>666.576463</td>\n",
       "    </tr>\n",
       "    <tr>\n",
       "      <th>H1</th>\n",
       "      <td>808</td>\n",
       "      <td>729.610474</td>\n",
       "      <td>690.290955</td>\n",
       "      <td>784.360291</td>\n",
       "      <td>546.837646</td>\n",
       "      <td>697.617224</td>\n",
       "    </tr>\n",
       "    <tr>\n",
       "      <th>H1</th>\n",
       "      <td>832</td>\n",
       "      <td>783.844788</td>\n",
       "      <td>696.610229</td>\n",
       "      <td>946.140686</td>\n",
       "      <td>524.023438</td>\n",
       "      <td>712.864342</td>\n",
       "    </tr>\n",
       "    <tr>\n",
       "      <th>H1</th>\n",
       "      <td>856</td>\n",
       "      <td>800.086487</td>\n",
       "      <td>686.995361</td>\n",
       "      <td>836.007324</td>\n",
       "      <td>503.833008</td>\n",
       "      <td>708.067239</td>\n",
       "    </tr>\n",
       "  </tbody>\n",
       "</table>\n",
       "</div>"
      ],
      "text/plain": [
       "            ds      NBEATS       NHITS         MLP        MLP1     Mixture\n",
       "unique_id                                                                 \n",
       "H1         760  656.379639  637.912354  803.190735  512.011230  641.353299\n",
       "H1         784  721.976929  653.890076  820.819336  517.277283  666.576463\n",
       "H1         808  729.610474  690.290955  784.360291  546.837646  697.617224\n",
       "H1         832  783.844788  696.610229  946.140686  524.023438  712.864342\n",
       "H1         856  800.086487  686.995361  836.007324  503.833008  708.067239"
      ]
     },
     "execution_count": 15,
     "metadata": {},
     "output_type": "execute_result"
    }
   ],
   "source": [
    "fcst[ensemble.alias] = fcst_ensemble.values\n",
    "\n",
    "fcst.head()"
   ]
  },
  {
   "cell_type": "code",
   "execution_count": 18,
   "id": "6d1aa52c-d2dd-421a-95fa-1b1e22b193c1",
   "metadata": {},
   "outputs": [
    {
     "data": {
      "text/html": [
       "<div>\n",
       "<style scoped>\n",
       "    .dataframe tbody tr th:only-of-type {\n",
       "        vertical-align: middle;\n",
       "    }\n",
       "\n",
       "    .dataframe tbody tr th {\n",
       "        vertical-align: top;\n",
       "    }\n",
       "\n",
       "    .dataframe thead th {\n",
       "        text-align: right;\n",
       "    }\n",
       "</style>\n",
       "<table border=\"1\" class=\"dataframe\">\n",
       "  <thead>\n",
       "    <tr style=\"text-align: right;\">\n",
       "      <th></th>\n",
       "      <th>unique_id</th>\n",
       "      <th>ds</th>\n",
       "      <th>y</th>\n",
       "      <th>NBEATS</th>\n",
       "      <th>NHITS</th>\n",
       "      <th>MLP</th>\n",
       "      <th>MLP1</th>\n",
       "      <th>Mixture</th>\n",
       "    </tr>\n",
       "  </thead>\n",
       "  <tbody>\n",
       "    <tr>\n",
       "      <th>0</th>\n",
       "      <td>H1</td>\n",
       "      <td>737</td>\n",
       "      <td>696.0</td>\n",
       "      <td>NaN</td>\n",
       "      <td>NaN</td>\n",
       "      <td>NaN</td>\n",
       "      <td>NaN</td>\n",
       "      <td>NaN</td>\n",
       "    </tr>\n",
       "    <tr>\n",
       "      <th>1</th>\n",
       "      <td>H1</td>\n",
       "      <td>738</td>\n",
       "      <td>761.0</td>\n",
       "      <td>NaN</td>\n",
       "      <td>NaN</td>\n",
       "      <td>NaN</td>\n",
       "      <td>NaN</td>\n",
       "      <td>NaN</td>\n",
       "    </tr>\n",
       "    <tr>\n",
       "      <th>2</th>\n",
       "      <td>H1</td>\n",
       "      <td>739</td>\n",
       "      <td>812.0</td>\n",
       "      <td>NaN</td>\n",
       "      <td>NaN</td>\n",
       "      <td>NaN</td>\n",
       "      <td>NaN</td>\n",
       "      <td>NaN</td>\n",
       "    </tr>\n",
       "    <tr>\n",
       "      <th>3</th>\n",
       "      <td>H1</td>\n",
       "      <td>740</td>\n",
       "      <td>836.0</td>\n",
       "      <td>NaN</td>\n",
       "      <td>NaN</td>\n",
       "      <td>NaN</td>\n",
       "      <td>NaN</td>\n",
       "      <td>NaN</td>\n",
       "    </tr>\n",
       "    <tr>\n",
       "      <th>4</th>\n",
       "      <td>H1</td>\n",
       "      <td>741</td>\n",
       "      <td>838.0</td>\n",
       "      <td>NaN</td>\n",
       "      <td>NaN</td>\n",
       "      <td>NaN</td>\n",
       "      <td>NaN</td>\n",
       "      <td>NaN</td>\n",
       "    </tr>\n",
       "    <tr>\n",
       "      <th>...</th>\n",
       "      <td>...</td>\n",
       "      <td>...</td>\n",
       "      <td>...</td>\n",
       "      <td>...</td>\n",
       "      <td>...</td>\n",
       "      <td>...</td>\n",
       "      <td>...</td>\n",
       "      <td>...</td>\n",
       "    </tr>\n",
       "    <tr>\n",
       "      <th>4963</th>\n",
       "      <td>H99</td>\n",
       "      <td>744</td>\n",
       "      <td>24039.0</td>\n",
       "      <td>NaN</td>\n",
       "      <td>NaN</td>\n",
       "      <td>NaN</td>\n",
       "      <td>NaN</td>\n",
       "      <td>NaN</td>\n",
       "    </tr>\n",
       "    <tr>\n",
       "      <th>4964</th>\n",
       "      <td>H99</td>\n",
       "      <td>745</td>\n",
       "      <td>22946.0</td>\n",
       "      <td>NaN</td>\n",
       "      <td>NaN</td>\n",
       "      <td>NaN</td>\n",
       "      <td>NaN</td>\n",
       "      <td>NaN</td>\n",
       "    </tr>\n",
       "    <tr>\n",
       "      <th>4965</th>\n",
       "      <td>H99</td>\n",
       "      <td>746</td>\n",
       "      <td>22217.0</td>\n",
       "      <td>NaN</td>\n",
       "      <td>NaN</td>\n",
       "      <td>NaN</td>\n",
       "      <td>NaN</td>\n",
       "      <td>NaN</td>\n",
       "    </tr>\n",
       "    <tr>\n",
       "      <th>4966</th>\n",
       "      <td>H99</td>\n",
       "      <td>747</td>\n",
       "      <td>21416.0</td>\n",
       "      <td>NaN</td>\n",
       "      <td>NaN</td>\n",
       "      <td>NaN</td>\n",
       "      <td>NaN</td>\n",
       "      <td>NaN</td>\n",
       "    </tr>\n",
       "    <tr>\n",
       "      <th>4967</th>\n",
       "      <td>H99</td>\n",
       "      <td>748</td>\n",
       "      <td>19531.0</td>\n",
       "      <td>NaN</td>\n",
       "      <td>NaN</td>\n",
       "      <td>NaN</td>\n",
       "      <td>NaN</td>\n",
       "      <td>NaN</td>\n",
       "    </tr>\n",
       "  </tbody>\n",
       "</table>\n",
       "<p>4968 rows × 8 columns</p>\n",
       "</div>"
      ],
      "text/plain": [
       "     unique_id   ds        y  NBEATS  NHITS  MLP  MLP1  Mixture\n",
       "0           H1  737    696.0     NaN    NaN  NaN   NaN      NaN\n",
       "1           H1  738    761.0     NaN    NaN  NaN   NaN      NaN\n",
       "2           H1  739    812.0     NaN    NaN  NaN   NaN      NaN\n",
       "3           H1  740    836.0     NaN    NaN  NaN   NaN      NaN\n",
       "4           H1  741    838.0     NaN    NaN  NaN   NaN      NaN\n",
       "...        ...  ...      ...     ...    ...  ...   ...      ...\n",
       "4963       H99  744  24039.0     NaN    NaN  NaN   NaN      NaN\n",
       "4964       H99  745  22946.0     NaN    NaN  NaN   NaN      NaN\n",
       "4965       H99  746  22217.0     NaN    NaN  NaN   NaN      NaN\n",
       "4966       H99  747  21416.0     NaN    NaN  NaN   NaN      NaN\n",
       "4967       H99  748  19531.0     NaN    NaN  NaN   NaN      NaN\n",
       "\n",
       "[4968 rows x 8 columns]"
      ]
     },
     "execution_count": 18,
     "metadata": {},
     "output_type": "execute_result"
    }
   ],
   "source": [
    "test_df.merge(fcst, on=['unique_id','ds'], how=\"left\")"
   ]
  },
  {
   "cell_type": "code",
   "execution_count": null,
   "id": "fded64cd-977a-4486-afe2-4a09b2f5bb64",
   "metadata": {},
   "outputs": [],
   "source": [
    "test_df"
   ]
  }
 ],
 "metadata": {
  "kernelspec": {
   "display_name": "Python 3 (ipykernel)",
   "language": "python",
   "name": "python3"
  },
  "language_info": {
   "codemirror_mode": {
    "name": "ipython",
    "version": 3
   },
   "file_extension": ".py",
   "mimetype": "text/x-python",
   "name": "python",
   "nbconvert_exporter": "python",
   "pygments_lexer": "ipython3",
   "version": "3.9.19"
  }
 },
 "nbformat": 4,
 "nbformat_minor": 5
}
