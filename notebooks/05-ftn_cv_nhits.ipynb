{
 "cells": [
  {
   "cell_type": "markdown",
   "id": "9499baf3-9451-4d5c-b439-11474b7a9155",
   "metadata": {},
   "source": [
    "# Leveraging a Weighted FTN\n",
    "\n",
    "FTN (Forecasted Trajectory Neighbors) is an instance-based (good old KNN) approach for improving multi-step forecasts, especially for long horizons.\n",
    "\n",
    "In the previous notebook (04-ftn_longhorizon), I described how to couple FTN with NHITS. In short-term forecasts, FTN is, in principle, not effective. So, it makes sense to weight it's effect differently along the horizon. Here's how to do that using a validation set.\n",
    "\n",
    "This notebook explores how to optimize FTN's weights along the horizon\n",
    "\n",
    "1. Loading LongHorizon's ETTm2 dataset\n",
    "2. Fitting a NHITS model and predicting on a validation set\n",
    "3. Fitting FTN and predicting on a validation set\n",
    "4. Optimize FTN's weights\n",
    "5. Re-fit NHITS and FTN using all training data\n",
    "6. Getting forecasts from NHITS and post-processing them using a weighted FTN\n",
    "7. Evaluating all models"
   ]
  },
  {
   "cell_type": "code",
   "execution_count": 23,
   "id": "117c7462-2f17-4b9f-93ae-d5ef7839b6bb",
   "metadata": {},
   "outputs": [],
   "source": [
    "import warnings\n",
    "\n",
    "warnings.filterwarnings(\"ignore\")"
   ]
  },
  {
   "cell_type": "markdown",
   "id": "928efe74-4127-4ea9-bfd5-4519d79ed50d",
   "metadata": {},
   "source": [
    "If necessary, install the package using pip:"
   ]
  },
  {
   "cell_type": "code",
   "execution_count": 2,
   "id": "65b145a0-7260-4fe4-8321-6220574984a0",
   "metadata": {},
   "outputs": [],
   "source": [
    "# !pip install metaforecast -U"
   ]
  },
  {
   "cell_type": "markdown",
   "id": "9879e5fe-8948-42ce-a21e-b1f86895198a",
   "metadata": {},
   "source": [
    "### 1. Data preparation\n",
    "\n",
    "Let's start by loading the dataset.\n",
    "This tutorial uses the ETTm2 dataset available on datasetsforecast.\n",
    "\n",
    "We also set the forecasting horizon and input size (number of lags) to 360, 6 hours of data."
   ]
  },
  {
   "cell_type": "code",
   "execution_count": 3,
   "id": "1ee2182c-d0ac-46a0-aa37-3d7f86480622",
   "metadata": {},
   "outputs": [],
   "source": [
    "import pandas as pd\n",
    "\n",
    "from datasetsforecast.long_horizon import LongHorizon\n",
    "\n",
    "# ade is best suited for short-term forecasting\n",
    "horizon = 360\n",
    "n_lags = 360\n",
    "\n",
    "df, *_ = LongHorizon.load('.',group='ETTm2')\n",
    "\n",
    "df['ds'] = pd.to_datetime(df['ds'])"
   ]
  },
  {
   "cell_type": "markdown",
   "id": "bd22ff99-3ebe-441f-92fa-c520fb647775",
   "metadata": {},
   "source": [
    "Setting up a function to split the dataset into training and testing sets:"
   ]
  },
  {
   "cell_type": "code",
   "execution_count": 4,
   "id": "486f4b32-295f-41f7-9af3-2de89c593495",
   "metadata": {},
   "outputs": [],
   "source": [
    "def train_test_split_df(df: pd.DataFrame):\n",
    "    df_by_unq = df.groupby('unique_id')\n",
    "\n",
    "    train_l, test_l = [], []\n",
    "    for g, df_ in df_by_unq:\n",
    "        df_ = df_.sort_values('ds')\n",
    "    \n",
    "        train_df_g = df_.head(-horizon)\n",
    "        test_df_g = df_.tail(horizon)\n",
    "    \n",
    "        train_l.append(train_df_g)\n",
    "        test_l.append(test_df_g)\n",
    "    \n",
    "    train_df = pd.concat(train_l).reset_index(drop=True)\n",
    "    test_df = pd.concat(test_l).reset_index(drop=True)\n",
    "\n",
    "    return train_df, test_df"
   ]
  },
  {
   "cell_type": "markdown",
   "id": "bc1146c7-2088-4145-849b-02e33ef16876",
   "metadata": {},
   "source": [
    "Prepare training, testing, development, and validation sets"
   ]
  },
  {
   "cell_type": "code",
   "execution_count": 5,
   "id": "ff3e02d9-6f29-49f2-a1c7-cc7ae4f4c2d7",
   "metadata": {},
   "outputs": [
    {
     "data": {
      "text/html": [
       "<div>\n",
       "<style scoped>\n",
       "    .dataframe tbody tr th:only-of-type {\n",
       "        vertical-align: middle;\n",
       "    }\n",
       "\n",
       "    .dataframe tbody tr th {\n",
       "        vertical-align: top;\n",
       "    }\n",
       "\n",
       "    .dataframe thead th {\n",
       "        text-align: right;\n",
       "    }\n",
       "</style>\n",
       "<table border=\"1\" class=\"dataframe\">\n",
       "  <thead>\n",
       "    <tr style=\"text-align: right;\">\n",
       "      <th></th>\n",
       "      <th>unique_id</th>\n",
       "      <th>ds</th>\n",
       "      <th>y</th>\n",
       "    </tr>\n",
       "  </thead>\n",
       "  <tbody>\n",
       "    <tr>\n",
       "      <th>56875</th>\n",
       "      <td>HUFL</td>\n",
       "      <td>2018-02-13 10:45:00</td>\n",
       "      <td>-1.633847</td>\n",
       "    </tr>\n",
       "    <tr>\n",
       "      <th>56876</th>\n",
       "      <td>HUFL</td>\n",
       "      <td>2018-02-13 11:00:00</td>\n",
       "      <td>-1.985959</td>\n",
       "    </tr>\n",
       "    <tr>\n",
       "      <th>56877</th>\n",
       "      <td>HUFL</td>\n",
       "      <td>2018-02-13 11:15:00</td>\n",
       "      <td>-1.881931</td>\n",
       "    </tr>\n",
       "    <tr>\n",
       "      <th>56878</th>\n",
       "      <td>HUFL</td>\n",
       "      <td>2018-02-13 11:30:00</td>\n",
       "      <td>-1.665849</td>\n",
       "    </tr>\n",
       "    <tr>\n",
       "      <th>56879</th>\n",
       "      <td>HUFL</td>\n",
       "      <td>2018-02-13 11:45:00</td>\n",
       "      <td>-1.601846</td>\n",
       "    </tr>\n",
       "  </tbody>\n",
       "</table>\n",
       "</div>"
      ],
      "text/plain": [
       "      unique_id                  ds         y\n",
       "56875      HUFL 2018-02-13 10:45:00 -1.633847\n",
       "56876      HUFL 2018-02-13 11:00:00 -1.985959\n",
       "56877      HUFL 2018-02-13 11:15:00 -1.881931\n",
       "56878      HUFL 2018-02-13 11:30:00 -1.665849\n",
       "56879      HUFL 2018-02-13 11:45:00 -1.601846"
      ]
     },
     "execution_count": 5,
     "metadata": {},
     "output_type": "execute_result"
    }
   ],
   "source": [
    "train_df, test_df = train_test_split_df(df)\n",
    "dev_df, valid_df = train_test_split_df(train_df)\n",
    "\n",
    "dev_df.query('unique_id==\"HUFL\"').tail()"
   ]
  },
  {
   "cell_type": "code",
   "execution_count": 6,
   "id": "eadec7b7-ea0c-4f12-8ae9-e90ff9734ff3",
   "metadata": {},
   "outputs": [
    {
     "data": {
      "text/html": [
       "<div>\n",
       "<style scoped>\n",
       "    .dataframe tbody tr th:only-of-type {\n",
       "        vertical-align: middle;\n",
       "    }\n",
       "\n",
       "    .dataframe tbody tr th {\n",
       "        vertical-align: top;\n",
       "    }\n",
       "\n",
       "    .dataframe thead th {\n",
       "        text-align: right;\n",
       "    }\n",
       "</style>\n",
       "<table border=\"1\" class=\"dataframe\">\n",
       "  <thead>\n",
       "    <tr style=\"text-align: right;\">\n",
       "      <th></th>\n",
       "      <th>unique_id</th>\n",
       "      <th>ds</th>\n",
       "      <th>y</th>\n",
       "    </tr>\n",
       "  </thead>\n",
       "  <tbody>\n",
       "    <tr>\n",
       "      <th>0</th>\n",
       "      <td>HUFL</td>\n",
       "      <td>2018-02-13 12:00:00</td>\n",
       "      <td>-1.809903</td>\n",
       "    </tr>\n",
       "    <tr>\n",
       "      <th>1</th>\n",
       "      <td>HUFL</td>\n",
       "      <td>2018-02-13 12:15:00</td>\n",
       "      <td>-1.721828</td>\n",
       "    </tr>\n",
       "    <tr>\n",
       "      <th>2</th>\n",
       "      <td>HUFL</td>\n",
       "      <td>2018-02-13 12:30:00</td>\n",
       "      <td>-1.673873</td>\n",
       "    </tr>\n",
       "    <tr>\n",
       "      <th>3</th>\n",
       "      <td>HUFL</td>\n",
       "      <td>2018-02-13 12:45:00</td>\n",
       "      <td>-1.801879</td>\n",
       "    </tr>\n",
       "    <tr>\n",
       "      <th>4</th>\n",
       "      <td>HUFL</td>\n",
       "      <td>2018-02-13 13:00:00</td>\n",
       "      <td>-1.713803</td>\n",
       "    </tr>\n",
       "  </tbody>\n",
       "</table>\n",
       "</div>"
      ],
      "text/plain": [
       "  unique_id                  ds         y\n",
       "0      HUFL 2018-02-13 12:00:00 -1.809903\n",
       "1      HUFL 2018-02-13 12:15:00 -1.721828\n",
       "2      HUFL 2018-02-13 12:30:00 -1.673873\n",
       "3      HUFL 2018-02-13 12:45:00 -1.801879\n",
       "4      HUFL 2018-02-13 13:00:00 -1.713803"
      ]
     },
     "execution_count": 6,
     "metadata": {},
     "output_type": "execute_result"
    }
   ],
   "source": [
    "valid_df.query('unique_id==\"HUFL\"').head()"
   ]
  },
  {
   "cell_type": "markdown",
   "id": "4a1054d0-b628-4a1a-88e3-7a7b6606f7c5",
   "metadata": {},
   "source": [
    "### 2. Model setup and fitting\n",
    "\n",
    "We focus on NHITS, which has been shown to excel on long-horizon forecasting problems.\n",
    "\n",
    "Default configuration for simplicity"
   ]
  },
  {
   "cell_type": "code",
   "execution_count": 7,
   "id": "83d67275-de84-4d20-b669-f18a910bc6ed",
   "metadata": {},
   "outputs": [
    {
     "name": "stderr",
     "output_type": "stream",
     "text": [
      "2024-10-10 23:07:35,369\tINFO util.py:154 -- Missing packages: ['ipywidgets']. Run `pip install -U ipywidgets`, then restart the notebook server for rich notebook output.\n",
      "2024-10-10 23:07:35,423\tINFO util.py:154 -- Missing packages: ['ipywidgets']. Run `pip install -U ipywidgets`, then restart the notebook server for rich notebook output.\n",
      "INFO:lightning_fabric.utilities.seed:Seed set to 1\n"
     ]
    }
   ],
   "source": [
    "from neuralforecast import NeuralForecast\n",
    "from neuralforecast.models import NHITS\n",
    "from metaforecast.longhorizon import MLForecastFTN as FTN\n",
    "\n",
    "CONFIG = {\n",
    "    'max_steps': 1000,\n",
    "    'input_size': n_lags,\n",
    "    'h': horizon,\n",
    "    'enable_checkpointing': True,\n",
    "    'accelerator': 'cpu'}\n",
    "\n",
    "models = [NHITS(start_padding_enabled=True, **CONFIG),]\n",
    "\n",
    "nf = NeuralForecast(models=models, freq='15min')\n",
    "ftn = FTN(horizon=horizon, n_neighbors=150, apply_ewm=True)"
   ]
  },
  {
   "cell_type": "markdown",
   "id": "6db1e9d7-f4ec-4cf6-aa32-bd12fdebcabc",
   "metadata": {},
   "source": [
    "### 3. Cross-validation\n",
    "\n",
    "We first run a validation cycle to estimate FTN's weights"
   ]
  },
  {
   "cell_type": "code",
   "execution_count": 8,
   "id": "555212cb-edce-469b-a03c-7ff66206dba3",
   "metadata": {},
   "outputs": [],
   "source": [
    "import numpy as np\n",
    "\n",
    "# auxiliary function to get horizon info\n",
    "def get_horizon(cv: pd.DataFrame):\n",
    "    if 'horizon' in cv.columns:\n",
    "        raise ValueError('\"horizon\" column already in the dataset.')\n",
    "\n",
    "    if 'cutoff' in cv.columns:\n",
    "        cv_g = cv.groupby(['unique_id', 'cutoff'])\n",
    "    else:\n",
    "        cv_g = cv.groupby(['unique_id'])\n",
    "\n",
    "    horizon = []\n",
    "    for g, df in cv_g:\n",
    "        df = df.sort_values('ds')\n",
    "        h = np.asarray(range(1, df.shape[0] + 1))\n",
    "        hs = {\n",
    "            'horizon': h,\n",
    "            'ds': df['ds'].values,\n",
    "            'unique_id': df['unique_id'].values,\n",
    "        }\n",
    "        if 'cutoff' in df.columns:\n",
    "            hs['cutoff'] = df['cutoff'].values,\n",
    "\n",
    "        hs = pd.DataFrame(hs)\n",
    "        horizon.append(hs)\n",
    "\n",
    "    horizon = pd.concat(horizon)\n",
    "\n",
    "    if 'cutoff' in cv.columns:\n",
    "        cv = cv.merge(horizon, on=['unique_id', 'ds', 'cutoff'])\n",
    "    else:\n",
    "        cv = cv.merge(horizon, on=['unique_id', 'ds'])\n",
    "\n",
    "    return cv"
   ]
  },
  {
   "cell_type": "code",
   "execution_count": 9,
   "id": "2f9551b8-8f27-42e7-98ad-9001fe4f4e35",
   "metadata": {},
   "outputs": [
    {
     "name": "stderr",
     "output_type": "stream",
     "text": [
      "INFO:pytorch_lightning.utilities.rank_zero:GPU available: True (mps), used: False\n",
      "INFO:pytorch_lightning.utilities.rank_zero:TPU available: False, using: 0 TPU cores\n",
      "INFO:pytorch_lightning.utilities.rank_zero:HPU available: False, using: 0 HPUs\n",
      "INFO:pytorch_lightning.callbacks.model_summary:\n",
      "  | Name         | Type          | Params | Mode \n",
      "-------------------------------------------------------\n",
      "0 | loss         | MAE           | 0      | train\n",
      "1 | padder_train | ConstantPad1d | 0      | train\n",
      "2 | scaler       | TemporalNorm  | 0      | train\n",
      "3 | blocks       | ModuleList    | 3.6 M  | train\n",
      "-------------------------------------------------------\n",
      "3.6 M     Trainable params\n",
      "0         Non-trainable params\n",
      "3.6 M     Total params\n",
      "14.445    Total estimated model params size (MB)\n",
      "INFO:pytorch_lightning.utilities.rank_zero:`Trainer.fit` stopped: `max_steps=1000` reached.\n",
      "INFO:pytorch_lightning.utilities.rank_zero:GPU available: True (mps), used: False\n",
      "INFO:pytorch_lightning.utilities.rank_zero:TPU available: False, using: 0 TPU cores\n",
      "INFO:pytorch_lightning.utilities.rank_zero:HPU available: False, using: 0 HPUs\n"
     ]
    }
   ],
   "source": [
    "%%capture\n",
    "\n",
    "nf.fit(df=dev_df)\n",
    "ftn.fit(dev_df)\n",
    "\n",
    "fcst_dev_nf = nf.predict()\n",
    "fcst_dev_ftn = ftn.predict(fcst_dev_nf)\n",
    "\n",
    "valid_df = valid_df.merge(fcst_dev_ftn, on=['unique_id', 'ds'], how=\"left\")\n",
    "valid_df = get_horizon(valid_df)\n",
    "\n",
    "weights = ftn.alpha_cv_scoring(valid_df)"
   ]
  },
  {
   "cell_type": "markdown",
   "id": "c8b20794-4fe8-4907-8849-53591c4cd010",
   "metadata": {},
   "source": [
    "Here are the estimated weights along the horizon. For short-term predictions, FTN is mostly ineffective"
   ]
  },
  {
   "cell_type": "code",
   "execution_count": 10,
   "id": "19c7a693-e5f8-403f-a7da-fa7fb1020a08",
   "metadata": {},
   "outputs": [
    {
     "data": {
      "text/plain": [
       "<Axes: >"
      ]
     },
     "execution_count": 10,
     "metadata": {},
     "output_type": "execute_result"
    },
    {
     "data": {
      "image/png": "[encoded data removed]",
      "text/plain": [
       "<Figure size 1200x400 with 1 Axes>"
      ]
     },
     "metadata": {},
     "output_type": "display_data"
    }
   ],
   "source": [
    "pd.Series(weights['NHITS']).rolling(3).mean().plot(figsize=(12,4))"
   ]
  },
  {
   "cell_type": "code",
   "execution_count": 11,
   "id": "5e8eeead-17e9-4ae8-875c-11faacd4d382",
   "metadata": {},
   "outputs": [],
   "source": [
    "ftn.apply_weighting = True\n",
    "ftn.set_alpha_weights(weights)"
   ]
  },
  {
   "cell_type": "markdown",
   "id": "5688301f-75af-4d8f-aea6-8ebf580cfff4",
   "metadata": {},
   "source": [
    "### 4. Re-fitting models\n",
    "\n",
    "Now, we re-fit both models on the complete training data."
   ]
  },
  {
   "cell_type": "code",
   "execution_count": 12,
   "id": "77992294-2163-4c39-a094-b901c3eb8093",
   "metadata": {},
   "outputs": [
    {
     "name": "stderr",
     "output_type": "stream",
     "text": [
      "INFO:pytorch_lightning.utilities.rank_zero:GPU available: True (mps), used: False\n",
      "INFO:pytorch_lightning.utilities.rank_zero:TPU available: False, using: 0 TPU cores\n",
      "INFO:pytorch_lightning.utilities.rank_zero:HPU available: False, using: 0 HPUs\n",
      "INFO:pytorch_lightning.callbacks.model_summary:\n",
      "  | Name         | Type          | Params | Mode \n",
      "-------------------------------------------------------\n",
      "0 | loss         | MAE           | 0      | train\n",
      "1 | padder_train | ConstantPad1d | 0      | train\n",
      "2 | scaler       | TemporalNorm  | 0      | train\n",
      "3 | blocks       | ModuleList    | 3.6 M  | train\n",
      "-------------------------------------------------------\n",
      "3.6 M     Trainable params\n",
      "0         Non-trainable params\n",
      "3.6 M     Total params\n",
      "14.445    Total estimated model params size (MB)\n",
      "INFO:pytorch_lightning.utilities.rank_zero:`Trainer.fit` stopped: `max_steps=1000` reached.\n"
     ]
    }
   ],
   "source": [
    "%%capture\n",
    "\n",
    "nf.fit(df=train_df)"
   ]
  },
  {
   "cell_type": "code",
   "execution_count": 13,
   "id": "fe77469d-d78e-431b-a398-c1591b356646",
   "metadata": {},
   "outputs": [
    {
     "name": "stderr",
     "output_type": "stream",
     "text": [
      "100%|████████████████████████████████████████████████████████████████████████████████████████████████████████████████████████████████████████████████████| 7/7 [00:00<00:00, 11.87it/s]\n"
     ]
    }
   ],
   "source": [
    "ftn.fit(train_df)"
   ]
  },
  {
   "cell_type": "code",
   "execution_count": 14,
   "id": "2ead898e-8f1f-400d-a3df-a8bb22160723",
   "metadata": {},
   "outputs": [
    {
     "name": "stderr",
     "output_type": "stream",
     "text": [
      "INFO:pytorch_lightning.utilities.rank_zero:GPU available: True (mps), used: False\n",
      "INFO:pytorch_lightning.utilities.rank_zero:TPU available: False, using: 0 TPU cores\n",
      "INFO:pytorch_lightning.utilities.rank_zero:HPU available: False, using: 0 HPUs\n"
     ]
    },
    {
     "name": "stdout",
     "output_type": "stream",
     "text": [
      "Predicting DataLoader 0: 100%|██████████████████████████████████████████████████████████████████████████████████████████████████████████████████████████| 1/1 [00:00<00:00, 110.51it/s]\n"
     ]
    },
    {
     "name": "stderr",
     "output_type": "stream",
     "text": [
      "100%|████████████████████████████████████████████████████████████████████████████████████████████████████████████████████████████████████████████████████| 7/7 [00:00<00:00, 46.07it/s]\n"
     ]
    }
   ],
   "source": [
    "fcst_nf = nf.predict()\n",
    "\n",
    "fcst_ftn = ftn.predict(fcst_nf)"
   ]
  },
  {
   "cell_type": "code",
   "execution_count": 15,
   "id": "2e611ad7-e4a8-4826-a166-16a6e85f1a17",
   "metadata": {},
   "outputs": [
    {
     "data": {
      "text/html": [
       "<div>\n",
       "<style scoped>\n",
       "    .dataframe tbody tr th:only-of-type {\n",
       "        vertical-align: middle;\n",
       "    }\n",
       "\n",
       "    .dataframe tbody tr th {\n",
       "        vertical-align: top;\n",
       "    }\n",
       "\n",
       "    .dataframe thead th {\n",
       "        text-align: right;\n",
       "    }\n",
       "</style>\n",
       "<table border=\"1\" class=\"dataframe\">\n",
       "  <thead>\n",
       "    <tr style=\"text-align: right;\">\n",
       "      <th></th>\n",
       "      <th>ds</th>\n",
       "      <th>NHITS</th>\n",
       "      <th>NHITS(WFTN)</th>\n",
       "    </tr>\n",
       "    <tr>\n",
       "      <th>unique_id</th>\n",
       "      <th></th>\n",
       "      <th></th>\n",
       "      <th></th>\n",
       "    </tr>\n",
       "  </thead>\n",
       "  <tbody>\n",
       "    <tr>\n",
       "      <th>HUFL</th>\n",
       "      <td>2018-02-17 06:00:00</td>\n",
       "      <td>-2.142243</td>\n",
       "      <td>-2.142243</td>\n",
       "    </tr>\n",
       "    <tr>\n",
       "      <th>HUFL</th>\n",
       "      <td>2018-02-17 06:15:00</td>\n",
       "      <td>-2.135545</td>\n",
       "      <td>-2.135545</td>\n",
       "    </tr>\n",
       "    <tr>\n",
       "      <th>HUFL</th>\n",
       "      <td>2018-02-17 06:30:00</td>\n",
       "      <td>-2.128394</td>\n",
       "      <td>-2.128394</td>\n",
       "    </tr>\n",
       "    <tr>\n",
       "      <th>HUFL</th>\n",
       "      <td>2018-02-17 06:45:00</td>\n",
       "      <td>-2.119522</td>\n",
       "      <td>-2.119522</td>\n",
       "    </tr>\n",
       "    <tr>\n",
       "      <th>HUFL</th>\n",
       "      <td>2018-02-17 07:00:00</td>\n",
       "      <td>-2.100488</td>\n",
       "      <td>-2.100487</td>\n",
       "    </tr>\n",
       "  </tbody>\n",
       "</table>\n",
       "</div>"
      ],
      "text/plain": [
       "                           ds     NHITS  NHITS(WFTN)\n",
       "unique_id                                           \n",
       "HUFL      2018-02-17 06:00:00 -2.142243    -2.142243\n",
       "HUFL      2018-02-17 06:15:00 -2.135545    -2.135545\n",
       "HUFL      2018-02-17 06:30:00 -2.128394    -2.128394\n",
       "HUFL      2018-02-17 06:45:00 -2.119522    -2.119522\n",
       "HUFL      2018-02-17 07:00:00 -2.100488    -2.100487"
      ]
     },
     "execution_count": 15,
     "metadata": {},
     "output_type": "execute_result"
    }
   ],
   "source": [
    "fcst_ftn.head()"
   ]
  },
  {
   "cell_type": "markdown",
   "id": "b8e99b89-2cf6-415a-b6cb-872caa1b7a21",
   "metadata": {},
   "source": [
    "Below are the weights of each model (equal across all unique ids because weight_by_uid=False)"
   ]
  },
  {
   "cell_type": "markdown",
   "id": "16adc578-2125-4bfe-ab48-2ff65577bcf6",
   "metadata": {},
   "source": [
    "Then, we refit the neural networks are get the test forecasts"
   ]
  },
  {
   "cell_type": "markdown",
   "id": "8b31c374-7359-40f9-b5ac-97f4032a047b",
   "metadata": {},
   "source": [
    "### 4. Evaluation\n",
    "\n",
    "Finally, we compare all approaches"
   ]
  },
  {
   "cell_type": "code",
   "execution_count": 16,
   "id": "6d1aa52c-d2dd-421a-95fa-1b1e22b193c1",
   "metadata": {},
   "outputs": [],
   "source": [
    "test_df = test_df.merge(fcst_ftn, on=['unique_id','ds'], how=\"left\")"
   ]
  },
  {
   "cell_type": "code",
   "execution_count": 17,
   "id": "cb4ba260-be22-4dcf-a9fa-9982c82de3b2",
   "metadata": {},
   "outputs": [],
   "source": [
    "from neuralforecast.losses.numpy import smape\n",
    "from datasetsforecast.evaluation import accuracy\n",
    "\n",
    "evaluation_df = accuracy(test_df, [smape], agg_by=['unique_id'])"
   ]
  },
  {
   "cell_type": "code",
   "execution_count": 18,
   "id": "f1baebe8-959b-421c-acdb-a69fb17d8f1e",
   "metadata": {},
   "outputs": [
    {
     "data": {
      "text/html": [
       "<div>\n",
       "<style scoped>\n",
       "    .dataframe tbody tr th:only-of-type {\n",
       "        vertical-align: middle;\n",
       "    }\n",
       "\n",
       "    .dataframe tbody tr th {\n",
       "        vertical-align: top;\n",
       "    }\n",
       "\n",
       "    .dataframe thead th {\n",
       "        text-align: right;\n",
       "    }\n",
       "</style>\n",
       "<table border=\"1\" class=\"dataframe\">\n",
       "  <thead>\n",
       "    <tr style=\"text-align: right;\">\n",
       "      <th></th>\n",
       "      <th>NHITS</th>\n",
       "      <th>NHITS(WFTN)</th>\n",
       "    </tr>\n",
       "  </thead>\n",
       "  <tbody>\n",
       "    <tr>\n",
       "      <th>0</th>\n",
       "      <td>0.162648</td>\n",
       "      <td>0.163075</td>\n",
       "    </tr>\n",
       "    <tr>\n",
       "      <th>1</th>\n",
       "      <td>0.253831</td>\n",
       "      <td>0.258548</td>\n",
       "    </tr>\n",
       "    <tr>\n",
       "      <th>2</th>\n",
       "      <td>0.046690</td>\n",
       "      <td>0.042557</td>\n",
       "    </tr>\n",
       "    <tr>\n",
       "      <th>3</th>\n",
       "      <td>0.570899</td>\n",
       "      <td>0.494612</td>\n",
       "    </tr>\n",
       "    <tr>\n",
       "      <th>4</th>\n",
       "      <td>0.194261</td>\n",
       "      <td>0.209592</td>\n",
       "    </tr>\n",
       "    <tr>\n",
       "      <th>5</th>\n",
       "      <td>0.323341</td>\n",
       "      <td>0.390476</td>\n",
       "    </tr>\n",
       "    <tr>\n",
       "      <th>6</th>\n",
       "      <td>0.217687</td>\n",
       "      <td>0.214806</td>\n",
       "    </tr>\n",
       "  </tbody>\n",
       "</table>\n",
       "</div>"
      ],
      "text/plain": [
       "      NHITS  NHITS(WFTN)\n",
       "0  0.162648     0.163075\n",
       "1  0.253831     0.258548\n",
       "2  0.046690     0.042557\n",
       "3  0.570899     0.494612\n",
       "4  0.194261     0.209592\n",
       "5  0.323341     0.390476\n",
       "6  0.217687     0.214806"
      ]
     },
     "execution_count": 18,
     "metadata": {},
     "output_type": "execute_result"
    }
   ],
   "source": [
    "eval_df = evaluation_df.drop(columns=['metric','unique_id'])\n",
    "\n",
    "eval_df"
   ]
  },
  {
   "cell_type": "code",
   "execution_count": 21,
   "id": "fded64cd-977a-4486-afe2-4a09b2f5bb64",
   "metadata": {
    "scrolled": true
   },
   "outputs": [
    {
     "data": {
      "text/plain": [
       "NHITS          0.252765\n",
       "NHITS(WFTN)    0.253381\n",
       "dtype: float64"
      ]
     },
     "execution_count": 21,
     "metadata": {},
     "output_type": "execute_result"
    }
   ],
   "source": [
    "eval_df.mean().sort_values()"
   ]
  },
  {
   "cell_type": "code",
   "execution_count": 22,
   "id": "49ef6097-c490-4a52-9510-5e274caee117",
   "metadata": {},
   "outputs": [
    {
     "data": {
      "text/plain": [
       "NHITS(WFTN)    0.214806\n",
       "NHITS          0.217687\n",
       "dtype: float64"
      ]
     },
     "execution_count": 22,
     "metadata": {},
     "output_type": "execute_result"
    }
   ],
   "source": [
    "eval_df.median().sort_values()"
   ]
  }
 ],
 "metadata": {
  "kernelspec": {
   "display_name": "Python 3 (ipykernel)",
   "language": "python",
   "name": "python3"
  },
  "language_info": {
   "codemirror_mode": {
    "name": "ipython",
    "version": 3
   },
   "file_extension": ".py",
   "mimetype": "text/x-python",
   "name": "python",
   "nbconvert_exporter": "python",
   "pygments_lexer": "ipython3",
   "version": "3.9.19"
  }
 },
 "nbformat": 4,
 "nbformat_minor": 5
}
