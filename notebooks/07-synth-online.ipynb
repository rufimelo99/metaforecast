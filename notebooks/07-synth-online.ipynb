{
 "cells": [
  {
   "cell_type": "markdown",
   "id": "9499baf3-9451-4d5c-b439-11474b7a9155",
   "metadata": {},
   "source": [
    "# Online Data Augmentation using Callbacks\n",
    "\n",
    "Time series synthetic data generation can be useful in scenarios where an adequate sample size in not available.\n",
    "\n",
    "This notebook explores how to do data augmentation and apply this process in the context of forecasting\n",
    "\n",
    "1. Loading M3's Monthly dataset\n",
    "2. Set up a callback that uses moving blocks bootstrapping to augment each batch of time series\n",
    "3. Fitting two version of NHITS, one with the callback and another without\n",
    "4. Evaluating both models"
   ]
  },
  {
   "cell_type": "code",
   "execution_count": 1,
   "id": "117c7462-2f17-4b9f-93ae-d5ef7839b6bb",
   "metadata": {},
   "outputs": [],
   "source": [
    "import warnings\n",
    "\n",
    "warnings.filterwarnings(\"ignore\")"
   ]
  },
  {
   "cell_type": "markdown",
   "id": "928efe74-4127-4ea9-bfd5-4519d79ed50d",
   "metadata": {},
   "source": [
    "If necessary, install the package using pip:"
   ]
  },
  {
   "cell_type": "code",
   "execution_count": 2,
   "id": "65b145a0-7260-4fe4-8321-6220574984a0",
   "metadata": {},
   "outputs": [],
   "source": [
    "# !pip install metaforecast -U"
   ]
  },
  {
   "cell_type": "markdown",
   "id": "9879e5fe-8948-42ce-a21e-b1f86895198a",
   "metadata": {},
   "source": [
    "### 1. Data preparation\n",
    "\n",
    "Let's start by loading the dataset.\n",
    "This tutorial uses the ETTm2 dataset available on datasetsforecast.\n",
    "\n",
    "We also set the forecasting horizon and input size (number of lags) to 360, 6 hours of data."
   ]
  },
  {
   "cell_type": "code",
   "execution_count": 3,
   "id": "1ee2182c-d0ac-46a0-aa37-3d7f86480622",
   "metadata": {},
   "outputs": [],
   "source": [
    "import pandas as pd\n",
    "\n",
    "from datasetsforecast.m3 import M3\n",
    "from metaforecast.utils.data import DataUtils\n",
    "\n",
    "horizon = 24\n",
    "n_lags = 24\n",
    "\n",
    "df, *_ = M3.load('.',group='Monthly')"
   ]
  },
  {
   "cell_type": "markdown",
   "id": "bd22ff99-3ebe-441f-92fa-c520fb647775",
   "metadata": {},
   "source": [
    "Split the dataset into training and testing sets:"
   ]
  },
  {
   "cell_type": "code",
   "execution_count": 4,
   "id": "bb10ae13-393b-4467-8f8a-02a32e276b8c",
   "metadata": {},
   "outputs": [
    {
     "data": {
      "text/html": [
       "<div>\n",
       "<style scoped>\n",
       "    .dataframe tbody tr th:only-of-type {\n",
       "        vertical-align: middle;\n",
       "    }\n",
       "\n",
       "    .dataframe tbody tr th {\n",
       "        vertical-align: top;\n",
       "    }\n",
       "\n",
       "    .dataframe thead th {\n",
       "        text-align: right;\n",
       "    }\n",
       "</style>\n",
       "<table border=\"1\" class=\"dataframe\">\n",
       "  <thead>\n",
       "    <tr style=\"text-align: right;\">\n",
       "      <th></th>\n",
       "      <th>unique_id</th>\n",
       "      <th>ds</th>\n",
       "      <th>y</th>\n",
       "    </tr>\n",
       "  </thead>\n",
       "  <tbody>\n",
       "    <tr>\n",
       "      <th>238</th>\n",
       "      <td>M1000</td>\n",
       "      <td>1991-10-31</td>\n",
       "      <td>4454.6</td>\n",
       "    </tr>\n",
       "    <tr>\n",
       "      <th>239</th>\n",
       "      <td>M1000</td>\n",
       "      <td>1991-11-30</td>\n",
       "      <td>4397.8</td>\n",
       "    </tr>\n",
       "    <tr>\n",
       "      <th>240</th>\n",
       "      <td>M1000</td>\n",
       "      <td>1991-12-31</td>\n",
       "      <td>4377.2</td>\n",
       "    </tr>\n",
       "    <tr>\n",
       "      <th>241</th>\n",
       "      <td>M1000</td>\n",
       "      <td>1992-01-31</td>\n",
       "      <td>4420.6</td>\n",
       "    </tr>\n",
       "    <tr>\n",
       "      <th>242</th>\n",
       "      <td>M1000</td>\n",
       "      <td>1992-02-29</td>\n",
       "      <td>4446.6</td>\n",
       "    </tr>\n",
       "  </tbody>\n",
       "</table>\n",
       "</div>"
      ],
      "text/plain": [
       "    unique_id         ds       y\n",
       "238     M1000 1991-10-31  4454.6\n",
       "239     M1000 1991-11-30  4397.8\n",
       "240     M1000 1991-12-31  4377.2\n",
       "241     M1000 1992-01-31  4420.6\n",
       "242     M1000 1992-02-29  4446.6"
      ]
     },
     "execution_count": 4,
     "metadata": {},
     "output_type": "execute_result"
    }
   ],
   "source": [
    "train, test = DataUtils.train_test_split(df, horizon)\n",
    "\n",
    "train.query('unique_id==\"M1000\"').tail()"
   ]
  },
  {
   "cell_type": "code",
   "execution_count": 5,
   "id": "eadec7b7-ea0c-4f12-8ae9-e90ff9734ff3",
   "metadata": {},
   "outputs": [
    {
     "data": {
      "text/html": [
       "<div>\n",
       "<style scoped>\n",
       "    .dataframe tbody tr th:only-of-type {\n",
       "        vertical-align: middle;\n",
       "    }\n",
       "\n",
       "    .dataframe tbody tr th {\n",
       "        vertical-align: top;\n",
       "    }\n",
       "\n",
       "    .dataframe thead th {\n",
       "        text-align: right;\n",
       "    }\n",
       "</style>\n",
       "<table border=\"1\" class=\"dataframe\">\n",
       "  <thead>\n",
       "    <tr style=\"text-align: right;\">\n",
       "      <th></th>\n",
       "      <th>unique_id</th>\n",
       "      <th>ds</th>\n",
       "      <th>y</th>\n",
       "    </tr>\n",
       "  </thead>\n",
       "  <tbody>\n",
       "    <tr>\n",
       "      <th>72</th>\n",
       "      <td>M1000</td>\n",
       "      <td>1992-03-31</td>\n",
       "      <td>4451.8</td>\n",
       "    </tr>\n",
       "    <tr>\n",
       "      <th>73</th>\n",
       "      <td>M1000</td>\n",
       "      <td>1992-04-30</td>\n",
       "      <td>4496.0</td>\n",
       "    </tr>\n",
       "    <tr>\n",
       "      <th>74</th>\n",
       "      <td>M1000</td>\n",
       "      <td>1992-05-31</td>\n",
       "      <td>4494.8</td>\n",
       "    </tr>\n",
       "    <tr>\n",
       "      <th>75</th>\n",
       "      <td>M1000</td>\n",
       "      <td>1992-06-30</td>\n",
       "      <td>4505.8</td>\n",
       "    </tr>\n",
       "    <tr>\n",
       "      <th>76</th>\n",
       "      <td>M1000</td>\n",
       "      <td>1992-07-31</td>\n",
       "      <td>4501.2</td>\n",
       "    </tr>\n",
       "  </tbody>\n",
       "</table>\n",
       "</div>"
      ],
      "text/plain": [
       "   unique_id         ds       y\n",
       "72     M1000 1992-03-31  4451.8\n",
       "73     M1000 1992-04-30  4496.0\n",
       "74     M1000 1992-05-31  4494.8\n",
       "75     M1000 1992-06-30  4505.8\n",
       "76     M1000 1992-07-31  4501.2"
      ]
     },
     "execution_count": 5,
     "metadata": {},
     "output_type": "execute_result"
    }
   ],
   "source": [
    "test.query('unique_id==\"M1000\"').head()"
   ]
  },
  {
   "cell_type": "markdown",
   "id": "313f7deb-9599-4e1d-bdc4-5c9d6fadf41c",
   "metadata": {},
   "source": [
    "## 2. Data Augmentation\n",
    "\n",
    "Use seasonal MBB to do data augmentation\n",
    "\n",
    "First, setup the callback"
   ]
  },
  {
   "cell_type": "code",
   "execution_count": 6,
   "id": "ee993224-8d65-4107-848e-cefa0f6d3e0a",
   "metadata": {},
   "outputs": [],
   "source": [
    "from metaforecast.synth.callbacks import OnlineDataAugmentationCallback\n",
    "from metaforecast.synth import SeasonalMBB\n",
    "\n",
    "tsgen = SeasonalMBB(seas_period=12)\n",
    "\n",
    "augmentation_cb = OnlineDataAugmentationCallback(generator=tsgen)"
   ]
  },
  {
   "cell_type": "markdown",
   "id": "4a1054d0-b628-4a1a-88e3-7a7b6606f7c5",
   "metadata": {},
   "source": [
    "## 3. Model setup and fitting\n",
    "\n",
    "We focus on NHITS, with a default configuration\n",
    "\n",
    "We train two version of NHITS: one on the original data (train), and another on the augmented dataset."
   ]
  },
  {
   "cell_type": "code",
   "execution_count": 7,
   "id": "83d67275-de84-4d20-b669-f18a910bc6ed",
   "metadata": {},
   "outputs": [
    {
     "name": "stderr",
     "output_type": "stream",
     "text": [
      "2024-10-18 11:05:57,885\tINFO util.py:154 -- Missing packages: ['ipywidgets']. Run `pip install -U ipywidgets`, then restart the notebook server for rich notebook output.\n",
      "2024-10-18 11:05:57,939\tINFO util.py:154 -- Missing packages: ['ipywidgets']. Run `pip install -U ipywidgets`, then restart the notebook server for rich notebook output.\n",
      "INFO:lightning_fabric.utilities.seed:Seed set to 1\n",
      "INFO:lightning_fabric.utilities.seed:Seed set to 1\n"
     ]
    }
   ],
   "source": [
    "from neuralforecast import NeuralForecast\n",
    "from neuralforecast.models import NHITS\n",
    "\n",
    "models = [NHITS(input_size=horizon,\n",
    "                h=horizon,\n",
    "                start_padding_enabled=True,\n",
    "                accelerator='mps'), \n",
    "          NHITS(input_size=horizon,\n",
    "                h=horizon,\n",
    "                start_padding_enabled=True,\n",
    "                accelerator='mps',\n",
    "                callbacks=[augmentation_cb])]\n",
    "\n",
    "nf = NeuralForecast(models=models, freq='ME')"
   ]
  },
  {
   "cell_type": "code",
   "execution_count": 8,
   "id": "f6940dfb-c7ec-4260-90f0-3cc36088cfc0",
   "metadata": {},
   "outputs": [
    {
     "name": "stderr",
     "output_type": "stream",
     "text": [
      "INFO: GPU available: True (mps), used: True\n",
      "INFO:lightning.pytorch.utilities.rank_zero:GPU available: True (mps), used: True\n",
      "INFO: TPU available: False, using: 0 TPU cores\n",
      "INFO:lightning.pytorch.utilities.rank_zero:TPU available: False, using: 0 TPU cores\n",
      "INFO: HPU available: False, using: 0 HPUs\n",
      "INFO:lightning.pytorch.utilities.rank_zero:HPU available: False, using: 0 HPUs\n",
      "INFO:pytorch_lightning.callbacks.model_summary:\n",
      "  | Name         | Type          | Params | Mode \n",
      "-------------------------------------------------------\n",
      "0 | loss         | MAE           | 0      | train\n",
      "1 | padder_train | ConstantPad1d | 0      | train\n",
      "2 | scaler       | TemporalNorm  | 0      | train\n",
      "3 | blocks       | ModuleList    | 2.4 M  | train\n",
      "-------------------------------------------------------\n",
      "2.4 M     Trainable params\n",
      "0         Non-trainable params\n",
      "2.4 M     Total params\n",
      "9.794     Total estimated model params size (MB)\n",
      "INFO: `Trainer.fit` stopped: `max_steps=1000` reached.\n",
      "INFO:lightning.pytorch.utilities.rank_zero:`Trainer.fit` stopped: `max_steps=1000` reached.\n",
      "INFO: GPU available: True (mps), used: True\n",
      "INFO:lightning.pytorch.utilities.rank_zero:GPU available: True (mps), used: True\n",
      "INFO: TPU available: False, using: 0 TPU cores\n",
      "INFO:lightning.pytorch.utilities.rank_zero:TPU available: False, using: 0 TPU cores\n",
      "INFO: HPU available: False, using: 0 HPUs\n",
      "INFO:lightning.pytorch.utilities.rank_zero:HPU available: False, using: 0 HPUs\n",
      "INFO:pytorch_lightning.callbacks.model_summary:\n",
      "  | Name         | Type          | Params | Mode \n",
      "-------------------------------------------------------\n",
      "0 | loss         | MAE           | 0      | train\n",
      "1 | padder_train | ConstantPad1d | 0      | train\n",
      "2 | scaler       | TemporalNorm  | 0      | train\n",
      "3 | blocks       | ModuleList    | 2.4 M  | train\n",
      "-------------------------------------------------------\n",
      "2.4 M     Trainable params\n",
      "0         Non-trainable params\n",
      "2.4 M     Total params\n",
      "9.794     Total estimated model params size (MB)\n",
      "INFO: `Trainer.fit` stopped: `max_steps=1000` reached.\n",
      "INFO:lightning.pytorch.utilities.rank_zero:`Trainer.fit` stopped: `max_steps=1000` reached.\n"
     ]
    }
   ],
   "source": [
    "%%capture\n",
    "\n",
    "nf.fit(df=train)"
   ]
  },
  {
   "cell_type": "code",
   "execution_count": 9,
   "id": "5c3fb7d5-e0c6-4269-b941-431ea388f2e9",
   "metadata": {},
   "outputs": [
    {
     "name": "stderr",
     "output_type": "stream",
     "text": [
      "INFO: GPU available: True (mps), used: True\n",
      "INFO:lightning.pytorch.utilities.rank_zero:GPU available: True (mps), used: True\n",
      "INFO: TPU available: False, using: 0 TPU cores\n",
      "INFO:lightning.pytorch.utilities.rank_zero:TPU available: False, using: 0 TPU cores\n",
      "INFO: HPU available: False, using: 0 HPUs\n",
      "INFO:lightning.pytorch.utilities.rank_zero:HPU available: False, using: 0 HPUs\n"
     ]
    },
    {
     "name": "stdout",
     "output_type": "stream",
     "text": [
      "Predicting DataLoader 0: 100%|████████████████████████████████████████████████████████████████████████████████████████████████████████████████████████| 45/45 [00:00<00:00, 132.85it/s]\n"
     ]
    },
    {
     "name": "stderr",
     "output_type": "stream",
     "text": [
      "INFO: Trainer already configured with model summary callbacks: [<class 'pytorch_lightning.callbacks.model_summary.ModelSummary'>]. Skipping setting a default `ModelSummary` callback.\n",
      "INFO:lightning.pytorch.utilities.rank_zero:Trainer already configured with model summary callbacks: [<class 'pytorch_lightning.callbacks.model_summary.ModelSummary'>]. Skipping setting a default `ModelSummary` callback.\n",
      "INFO: GPU available: True (mps), used: True\n",
      "INFO:lightning.pytorch.utilities.rank_zero:GPU available: True (mps), used: True\n",
      "INFO: TPU available: False, using: 0 TPU cores\n",
      "INFO:lightning.pytorch.utilities.rank_zero:TPU available: False, using: 0 TPU cores\n",
      "INFO: HPU available: False, using: 0 HPUs\n",
      "INFO:lightning.pytorch.utilities.rank_zero:HPU available: False, using: 0 HPUs\n"
     ]
    },
    {
     "name": "stdout",
     "output_type": "stream",
     "text": [
      "Predicting DataLoader 0: 100%|████████████████████████████████████████████████████████████████████████████████████████████████████████████████████████| 45/45 [00:00<00:00, 248.16it/s]\n"
     ]
    }
   ],
   "source": [
    "fcst = nf.predict()"
   ]
  },
  {
   "cell_type": "code",
   "execution_count": 10,
   "id": "9e430797-1192-404a-bd02-ebbcb6969290",
   "metadata": {},
   "outputs": [
    {
     "data": {
      "text/html": [
       "<div>\n",
       "<style scoped>\n",
       "    .dataframe tbody tr th:only-of-type {\n",
       "        vertical-align: middle;\n",
       "    }\n",
       "\n",
       "    .dataframe tbody tr th {\n",
       "        vertical-align: top;\n",
       "    }\n",
       "\n",
       "    .dataframe thead th {\n",
       "        text-align: right;\n",
       "    }\n",
       "</style>\n",
       "<table border=\"1\" class=\"dataframe\">\n",
       "  <thead>\n",
       "    <tr style=\"text-align: right;\">\n",
       "      <th></th>\n",
       "      <th>ds</th>\n",
       "      <th>NHITS</th>\n",
       "      <th>NHITS(MBB)</th>\n",
       "    </tr>\n",
       "    <tr>\n",
       "      <th>unique_id</th>\n",
       "      <th></th>\n",
       "      <th></th>\n",
       "      <th></th>\n",
       "    </tr>\n",
       "  </thead>\n",
       "  <tbody>\n",
       "    <tr>\n",
       "      <th>M1</th>\n",
       "      <td>1993-09-30</td>\n",
       "      <td>2349.900635</td>\n",
       "      <td>2416.396240</td>\n",
       "    </tr>\n",
       "    <tr>\n",
       "      <th>M1</th>\n",
       "      <td>1993-10-31</td>\n",
       "      <td>2323.687988</td>\n",
       "      <td>1869.681885</td>\n",
       "    </tr>\n",
       "    <tr>\n",
       "      <th>M1</th>\n",
       "      <td>1993-11-30</td>\n",
       "      <td>2723.932617</td>\n",
       "      <td>2878.699951</td>\n",
       "    </tr>\n",
       "    <tr>\n",
       "      <th>M1</th>\n",
       "      <td>1993-12-31</td>\n",
       "      <td>2504.443115</td>\n",
       "      <td>2124.569092</td>\n",
       "    </tr>\n",
       "    <tr>\n",
       "      <th>M1</th>\n",
       "      <td>1994-01-31</td>\n",
       "      <td>2363.329834</td>\n",
       "      <td>2149.853516</td>\n",
       "    </tr>\n",
       "  </tbody>\n",
       "</table>\n",
       "</div>"
      ],
      "text/plain": [
       "                  ds        NHITS   NHITS(MBB)\n",
       "unique_id                                     \n",
       "M1        1993-09-30  2349.900635  2416.396240\n",
       "M1        1993-10-31  2323.687988  1869.681885\n",
       "M1        1993-11-30  2723.932617  2878.699951\n",
       "M1        1993-12-31  2504.443115  2124.569092\n",
       "M1        1994-01-31  2363.329834  2149.853516"
      ]
     },
     "execution_count": 10,
     "metadata": {},
     "output_type": "execute_result"
    }
   ],
   "source": [
    "fcst = fcst.rename(columns={'NHITS1':'NHITS(MBB)'})\n",
    "\n",
    "fcst.head()"
   ]
  },
  {
   "cell_type": "markdown",
   "id": "8b31c374-7359-40f9-b5ac-97f4032a047b",
   "metadata": {},
   "source": [
    "## 4. Evaluation\n",
    "\n",
    "Finally, we compare both approaches"
   ]
  },
  {
   "cell_type": "code",
   "execution_count": 11,
   "id": "6d1aa52c-d2dd-421a-95fa-1b1e22b193c1",
   "metadata": {},
   "outputs": [
    {
     "data": {
      "text/html": [
       "<div>\n",
       "<style scoped>\n",
       "    .dataframe tbody tr th:only-of-type {\n",
       "        vertical-align: middle;\n",
       "    }\n",
       "\n",
       "    .dataframe tbody tr th {\n",
       "        vertical-align: top;\n",
       "    }\n",
       "\n",
       "    .dataframe thead th {\n",
       "        text-align: right;\n",
       "    }\n",
       "</style>\n",
       "<table border=\"1\" class=\"dataframe\">\n",
       "  <thead>\n",
       "    <tr style=\"text-align: right;\">\n",
       "      <th></th>\n",
       "      <th>unique_id</th>\n",
       "      <th>ds</th>\n",
       "      <th>y</th>\n",
       "      <th>NHITS</th>\n",
       "      <th>NHITS(MBB)</th>\n",
       "    </tr>\n",
       "  </thead>\n",
       "  <tbody>\n",
       "    <tr>\n",
       "      <th>0</th>\n",
       "      <td>M1</td>\n",
       "      <td>1993-09-30</td>\n",
       "      <td>4800.0</td>\n",
       "      <td>2349.900635</td>\n",
       "      <td>2416.396240</td>\n",
       "    </tr>\n",
       "    <tr>\n",
       "      <th>1</th>\n",
       "      <td>M1</td>\n",
       "      <td>1993-10-31</td>\n",
       "      <td>3000.0</td>\n",
       "      <td>2323.687988</td>\n",
       "      <td>1869.681885</td>\n",
       "    </tr>\n",
       "    <tr>\n",
       "      <th>2</th>\n",
       "      <td>M1</td>\n",
       "      <td>1993-11-30</td>\n",
       "      <td>3120.0</td>\n",
       "      <td>2723.932617</td>\n",
       "      <td>2878.699951</td>\n",
       "    </tr>\n",
       "    <tr>\n",
       "      <th>3</th>\n",
       "      <td>M1</td>\n",
       "      <td>1993-12-31</td>\n",
       "      <td>5880.0</td>\n",
       "      <td>2504.443115</td>\n",
       "      <td>2124.569092</td>\n",
       "    </tr>\n",
       "    <tr>\n",
       "      <th>4</th>\n",
       "      <td>M1</td>\n",
       "      <td>1994-01-31</td>\n",
       "      <td>2640.0</td>\n",
       "      <td>2363.329834</td>\n",
       "      <td>2149.853516</td>\n",
       "    </tr>\n",
       "  </tbody>\n",
       "</table>\n",
       "</div>"
      ],
      "text/plain": [
       "  unique_id         ds       y        NHITS   NHITS(MBB)\n",
       "0        M1 1993-09-30  4800.0  2349.900635  2416.396240\n",
       "1        M1 1993-10-31  3000.0  2323.687988  1869.681885\n",
       "2        M1 1993-11-30  3120.0  2723.932617  2878.699951\n",
       "3        M1 1993-12-31  5880.0  2504.443115  2124.569092\n",
       "4        M1 1994-01-31  2640.0  2363.329834  2149.853516"
      ]
     },
     "execution_count": 11,
     "metadata": {},
     "output_type": "execute_result"
    }
   ],
   "source": [
    "test = test.merge(fcst, on=['unique_id','ds'], how=\"left\")\n",
    "\n",
    "test.head()"
   ]
  },
  {
   "cell_type": "code",
   "execution_count": 12,
   "id": "cb4ba260-be22-4dcf-a9fa-9982c82de3b2",
   "metadata": {},
   "outputs": [],
   "source": [
    "from neuralforecast.losses.numpy import smape\n",
    "from datasetsforecast.evaluation import accuracy\n",
    "\n",
    "evaluation_df = accuracy(test, [smape], agg_by=['unique_id'])"
   ]
  },
  {
   "cell_type": "code",
   "execution_count": 13,
   "id": "f1baebe8-959b-421c-acdb-a69fb17d8f1e",
   "metadata": {},
   "outputs": [
    {
     "data": {
      "text/html": [
       "<div>\n",
       "<style scoped>\n",
       "    .dataframe tbody tr th:only-of-type {\n",
       "        vertical-align: middle;\n",
       "    }\n",
       "\n",
       "    .dataframe tbody tr th {\n",
       "        vertical-align: top;\n",
       "    }\n",
       "\n",
       "    .dataframe thead th {\n",
       "        text-align: right;\n",
       "    }\n",
       "</style>\n",
       "<table border=\"1\" class=\"dataframe\">\n",
       "  <thead>\n",
       "    <tr style=\"text-align: right;\">\n",
       "      <th></th>\n",
       "      <th>NHITS</th>\n",
       "      <th>NHITS(MBB)</th>\n",
       "    </tr>\n",
       "  </thead>\n",
       "  <tbody>\n",
       "    <tr>\n",
       "      <th>0</th>\n",
       "      <td>0.481972</td>\n",
       "      <td>0.476603</td>\n",
       "    </tr>\n",
       "    <tr>\n",
       "      <th>1</th>\n",
       "      <td>0.244885</td>\n",
       "      <td>0.248488</td>\n",
       "    </tr>\n",
       "    <tr>\n",
       "      <th>2</th>\n",
       "      <td>0.084516</td>\n",
       "      <td>0.076151</td>\n",
       "    </tr>\n",
       "    <tr>\n",
       "      <th>3</th>\n",
       "      <td>0.017971</td>\n",
       "      <td>0.012527</td>\n",
       "    </tr>\n",
       "    <tr>\n",
       "      <th>4</th>\n",
       "      <td>0.039103</td>\n",
       "      <td>0.038067</td>\n",
       "    </tr>\n",
       "    <tr>\n",
       "      <th>...</th>\n",
       "      <td>...</td>\n",
       "      <td>...</td>\n",
       "    </tr>\n",
       "    <tr>\n",
       "      <th>1423</th>\n",
       "      <td>0.014715</td>\n",
       "      <td>0.019102</td>\n",
       "    </tr>\n",
       "    <tr>\n",
       "      <th>1424</th>\n",
       "      <td>0.019006</td>\n",
       "      <td>0.019156</td>\n",
       "    </tr>\n",
       "    <tr>\n",
       "      <th>1425</th>\n",
       "      <td>0.059260</td>\n",
       "      <td>0.062880</td>\n",
       "    </tr>\n",
       "    <tr>\n",
       "      <th>1426</th>\n",
       "      <td>0.055512</td>\n",
       "      <td>0.056238</td>\n",
       "    </tr>\n",
       "    <tr>\n",
       "      <th>1427</th>\n",
       "      <td>0.014873</td>\n",
       "      <td>0.013690</td>\n",
       "    </tr>\n",
       "  </tbody>\n",
       "</table>\n",
       "<p>1428 rows × 2 columns</p>\n",
       "</div>"
      ],
      "text/plain": [
       "         NHITS  NHITS(MBB)\n",
       "0     0.481972    0.476603\n",
       "1     0.244885    0.248488\n",
       "2     0.084516    0.076151\n",
       "3     0.017971    0.012527\n",
       "4     0.039103    0.038067\n",
       "...        ...         ...\n",
       "1423  0.014715    0.019102\n",
       "1424  0.019006    0.019156\n",
       "1425  0.059260    0.062880\n",
       "1426  0.055512    0.056238\n",
       "1427  0.014873    0.013690\n",
       "\n",
       "[1428 rows x 2 columns]"
      ]
     },
     "execution_count": 13,
     "metadata": {},
     "output_type": "execute_result"
    }
   ],
   "source": [
    "eval_df = evaluation_df.drop(columns=['metric','unique_id'])\n",
    "\n",
    "eval_df"
   ]
  },
  {
   "cell_type": "code",
   "execution_count": 14,
   "id": "fded64cd-977a-4486-afe2-4a09b2f5bb64",
   "metadata": {
    "scrolled": true
   },
   "outputs": [
    {
     "data": {
      "text/plain": [
       "NHITS(MBB)    0.145017\n",
       "NHITS         0.146005\n",
       "dtype: float64"
      ]
     },
     "execution_count": 14,
     "metadata": {},
     "output_type": "execute_result"
    }
   ],
   "source": [
    "eval_df.mean().sort_values()"
   ]
  }
 ],
 "metadata": {
  "kernelspec": {
   "display_name": "Python 3 (ipykernel)",
   "language": "python",
   "name": "python3"
  },
  "language_info": {
   "codemirror_mode": {
    "name": "ipython",
    "version": 3
   },
   "file_extension": ".py",
   "mimetype": "text/x-python",
   "name": "python",
   "nbconvert_exporter": "python",
   "pygments_lexer": "ipython3",
   "version": "3.9.19"
  }
 },
 "nbformat": 4,
 "nbformat_minor": 5
}
